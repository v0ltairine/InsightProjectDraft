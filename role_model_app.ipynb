{
 "cells": [
  {
   "cell_type": "code",
   "execution_count": 1,
   "metadata": {},
   "outputs": [],
   "source": [
    "from flask import Flask, render_template, request"
   ]
  },
  {
   "cell_type": "code",
   "execution_count": 3,
   "metadata": {},
   "outputs": [],
   "source": [
    "app = Flask(__name__)\n",
    "\n",
    "@app.route('/')\n",
    "def hello_world():\n",
    "    return render_template('FRMcode.html')\n",
    "\n",
    "@app.route('/role_model', methods=['POST'])\n",
    "def createrolemodel():\n",
    "    location = request.values[\"location\"]\n",
    "    hobbies = request.values[\"hobbies\"]\n",
    "    issues = request.values[\"issues\"]\n",
    "    # call my nlp function with these variables (locations, hobbies, issues)\n",
    "    # write a function where i pass in the answers to 3 questions and it returns the name of the role model.\n",
    "    \n",
    "    name = pick_role_model(issues, hobbies, location)\n",
    "    return render_template('role_model.html', name=name)\n",
    "    \n",
    "\n",
    "def pick_role_model(issues, hobbies, location):\n",
    "    if issues == \"biology\" and hobbies == \"embroidery\" and location == \"pittsburgh\":\n",
    "        return \"Kathleen C. Allen\"\n",
    "    elif issues == \"biology\" and hobbies == \"embroidery\" and location == \"los_angeles\":\n",
    "        return \"Samantha Baker\"\n",
    "    elif issues == \"biology\" and hobbies == \"archery\" and location == \"pittsburgh\":\n",
    "        return \"Katrina A. Brown\"\n",
    "    elif issues == \"biology\" and hobbies == \"archery\" and location == \"los_angeles\":\n",
    "        return \"Sally Jensen\"\n",
    "    elif issues == \"math\" and hobbies == \"embroidery\" and location == \"pittsburgh\":\n",
    "        return \"Vanessa Corday\"\n",
    "    elif issues == \"math\" and hobbies == \"archery\" and location == \"pittsburgh\":\n",
    "        return \"Mariah Carnegie\"\n",
    "    elif issues == \"math\" and hobbies == \"embroidery\" and location == \"los_angeles\":\n",
    "        return \"Helen Swanson\"\n",
    "    elif issues == \"math\" and hobbies == \"archery\" and location == \"los_angeles\":\n",
    "        return \"Dorothy M. Smith\"\n",
    "    else: \n",
    "        raise Exception"
   ]
  },
  {
   "cell_type": "code",
   "execution_count": null,
   "metadata": {},
   "outputs": [],
   "source": []
  }
 ],
 "metadata": {
  "kernelspec": {
   "display_name": "Python 3",
   "language": "python",
   "name": "python3"
  },
  "language_info": {
   "codemirror_mode": {
    "name": "ipython",
    "version": 3
   },
   "file_extension": ".py",
   "mimetype": "text/x-python",
   "name": "python",
   "nbconvert_exporter": "python",
   "pygments_lexer": "ipython3",
   "version": "3.6.5"
  }
 },
 "nbformat": 4,
 "nbformat_minor": 2
}
