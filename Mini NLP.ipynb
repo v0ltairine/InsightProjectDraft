{
 "cells": [
  {
   "cell_type": "code",
   "execution_count": 1,
   "metadata": {},
   "outputs": [],
   "source": [
    "import wikipediaapi\n",
    "import csv"
   ]
  },
  {
   "cell_type": "code",
   "execution_count": 2,
   "metadata": {},
   "outputs": [
    {
     "name": "stdout",
     "output_type": "stream",
     "text": [
      "['Bette Ford', 'Bette Ford (born Harriet Elizabeth Dingeldein; June 24, 1927) is an American retired actress and former model turned professional bullfighter. She was the first American woman to fight on foot in the Plaza México, the world\\'s largest bullfight arena.\\n\\nEarly modeling and acting career\\nBorn as Harriet Elizabeth Dingeldein in McKeesport, Pennsylvania in 1927, she and her brother were raised by relatives after being abandoned, first by their mother and then later, by their father. After graduating from high school in 1945, she began her career as a model and actress in New York, where her modeling credits included stints as the Jantzen Bathing Suit Girl, the Camay Bride, and the Parliament Cigarette Girl, and her acting credits included appearances as a regular on The Jackie Gleason Show and The Jimmy Durante Show.\\n\\nBullfighting career\\nWhile on a modeling photo shoot in Bogotá, Colombia, Ford was introduced to the renowned matador Luis Miguel Dominguín and watched him fight in the ring. Soon after, Ford left New York for Mexico to train as a bullfighter. In 1954, Warner Bros made a documentary short about her training, Beauty and the Bull.\\nHer historic debut at the Plaza México was followed by several years of fighting as a figura (bullfighting celebrity) in Mexico and the Philippines. The studio MGM, which had offered her an acting contract before she left New York to become a bullfighter, planned a full-length feature film based on her life story, and sent several writers, among them John Meston, the co-creator of Gunsmoke, to meet with Ford and discuss a screenplay. Ford married Meston shortly after they met and then retired as a bullfighter.\\n\\nPost-bullfighting acting career\\nFord has appeared in feature films including the Clint-Eastwood-directed Sudden Impact and Honkytonk Man, and television series including Cheers, L.A. Law, Melrose Place, and Felicity. Her voice can be heard in The Animatrix, the companion animated DVD of the film trilogy The Matrix, and numerous commercials.\\n\\nPersonal life\\nShortly after moving to New York, she married another actor, David Ford, whose surname she kept although the marriage ended after nine months. She later married John Meston (July 30, 1914 – March 24, 1979) an American radio and television writer best known for co-creating (with Norman Macdonnell), the long-running radio/TV series, Gunsmoke. Ford\\'s third and current husband is Scott Wolkoff (born May 27, 1947), some two decades her junior.\\n\\nSelected filmography\\nSee also\\nPatricia McCormick (1927-2013), American woman professional bullfighter\\nList of female bullfighters\\n\\nNotes\\nExternal links\\n\"La Estocada\" (interviewed by Fortunato Salazar in Guernica magazine, 2011); accessed December 29, 2016.\\n\"Bette Ford: Story of a Lady Bullfighter\" (Bette Ford interviewed by \"Gus O\\'Shaugn\" in the Village Voice, 1955); accessed April 27, 2016.\\nBette Ford as a contestant on YouTube on What\\'s My Line, 1957']\n"
     ]
    }
   ],
   "source": [
    "# Fetching data from Wikipedia API\n",
    "\n",
    "wiki_wiki = wikipediaapi.Wikipedia('en')\n",
    "categories = [\"Category:Female bullfighters\"]\n",
    "\n",
    "bullfighters = []\n",
    "\n",
    "for category in categories:\n",
    "    women_in_category = wiki_wiki.page(category)\n",
    "    names = women_in_category.categorymembers.keys()\n",
    "    for name in names:\n",
    "        bio = wiki_wiki.page(name).text\n",
    "        bullfighters.append([name, bio])\n",
    "\n",
    "print(bullfighters[2])"
   ]
  },
  {
   "cell_type": "code",
   "execution_count": 3,
   "metadata": {},
   "outputs": [],
   "source": [
    "# Saving data to disk\n",
    "\n",
    "profiles612 = open('bullfighters.csv', 'w')\n",
    "with profiles612:\n",
    "    writer = csv.writer(profiles612)\n",
    "    writer.writerows(bullfighters)"
   ]
  },
  {
   "cell_type": "code",
   "execution_count": 6,
   "metadata": {},
   "outputs": [
    {
     "name": "stdout",
     "output_type": "stream",
     "text": [
      "['Conchi Ríos', 'Conchi Reyes Ríos (born 11 March 1991) is a Spanish bullfighter. In 2011, she was the first woman to take two ears off a bull. In 2015, she was featured on a Spanish national list of bullfighters, one of six women out of 825.\\n\\nBiography\\nRíos was born in the Region of Murcia in 1991. Her grandparents learnt of her ambition to be a bullfighter when she was 15. Her grandfather had taken her to the local bull ring. He tested her ambition by taking her to see a calf but she showed no fear only interest.\\n\\nShe made her debut in public at a bullfight on 23 September 2007. She first appeared as a picador in 2009 supporting Luis Miguel Casares (\"El Nico\"). She first appeared at Las Ventas in Madrid in 2011 on a bill that included Simon Lopez, Jimenez Fortes and José Cruz. In 2011 she was the first woman to take two ears off a bull but this was not a victory as for three years she did not have another bullfight. She spent time in education but she feared that despite her ambition she might work in a supermarket. She ended up bullfighting in Peru where there are less restrictions on the sport.\\nIn 2015, she one of one only six female bullfighters in a national list of 825.\\nIn 2016, she appeared with the veteran bullfighter El Cordobés and Antonio Puerta in Cehegín in Murcia.\\nIn 2016, she and her boyfriend, Jose Manuel Mas, moved to a house near Torrijos. The both train every day which includes two hours of bullfighting using a one wheeled device that becomes the bull. In 2016, she was chosen as one of BBC\\'s 100 Women. She was the only Spaniard of the twenty European women chosen. The BBC highlighted that was now only one of four women in 820 bullfighters and they noted her saying \"I believe in the equality of women and men. Everyone has to fight for what it is and for what it wants to do in life.\" (sic)\\n\\nReferences\\nExternal links\\n Media related to Conchi Ríos at Wikimedia Commons']\n"
     ]
    }
   ],
   "source": [
    "# Reading data from disk\n",
    "\n",
    "from_mini_nlp = []\n",
    "    \n",
    "with open('bullfighters.csv') as profiles612:  \n",
    "    reader = csv.reader(profiles612)\n",
    "    for row in reader:\n",
    "        from_mini_nlp.append(row)\n",
    "\n",
    "# To see what's in the list\n",
    "print(from_mini_nlp[5])"
   ]
  },
  {
   "cell_type": "code",
   "execution_count": 19,
   "metadata": {},
   "outputs": [
    {
     "ename": "TypeError",
     "evalue": "sequence item 0: expected str instance, list found",
     "output_type": "error",
     "traceback": [
      "\u001b[0;31m---------------------------------------------------------------------------\u001b[0m",
      "\u001b[0;31mTypeError\u001b[0m                                 Traceback (most recent call last)",
      "\u001b[0;32m<ipython-input-19-cd7093f814b7>\u001b[0m in \u001b[0;36m<module>\u001b[0;34m()\u001b[0m\n\u001b[1;32m      3\u001b[0m \u001b[0mno_features\u001b[0m \u001b[0;34m=\u001b[0m \u001b[0;36m1000\u001b[0m\u001b[0;34m\u001b[0m\u001b[0m\n\u001b[1;32m      4\u001b[0m \u001b[0;34m\u001b[0m\u001b[0m\n\u001b[0;32m----> 5\u001b[0;31m \u001b[0mfrom_mini_nlp\u001b[0m \u001b[0;34m=\u001b[0m \u001b[0;34m' '\u001b[0m\u001b[0;34m.\u001b[0m\u001b[0mjoin\u001b[0m\u001b[0;34m(\u001b[0m\u001b[0mfrom_mini_nlp\u001b[0m\u001b[0;34m)\u001b[0m\u001b[0;34m\u001b[0m\u001b[0m\n\u001b[0m\u001b[1;32m      6\u001b[0m \u001b[0;34m\u001b[0m\u001b[0m\n\u001b[1;32m      7\u001b[0m \u001b[0;31m# NMF\u001b[0m\u001b[0;34m\u001b[0m\u001b[0;34m\u001b[0m\u001b[0m\n",
      "\u001b[0;31mTypeError\u001b[0m: sequence item 0: expected str instance, list found"
     ]
    }
   ],
   "source": [
    "from sklearn.feature_extraction.text import TfidfVectorizer, CountVectorizer\n",
    "\n",
    "no_features = 1000\n",
    "\n",
    "from_mini_nlp = ' '.join(from_mini_nlp)\n",
    "\n",
    "# NMF\n",
    "tfidf_vectorizer = TfidfVectorizer(max_df=0.95, min_df=2, max_features=no_features, stop_words='english')\n",
    "tfidf = tfidf_vectorizer.fit_transform(from_mini_nlp)\n",
    "tfidf_feature_names = tfidf_vectorizer.get_feature_names()\n",
    "\n",
    "# LDA\n",
    "tf_vectorizer = CountVectorizer(max_df=0.95, min_df=2, max_features=no_features, stop_words='english')\n",
    "tf = tf_vectorizer.fit_transform(from_mini_nlp)\n",
    "tf_feature_names = tf_vectorizer.get_feature_names()\n",
    "\n"
   ]
  },
  {
   "cell_type": "code",
   "execution_count": null,
   "metadata": {},
   "outputs": [],
   "source": []
  }
 ],
 "metadata": {
  "kernelspec": {
   "display_name": "Python 3",
   "language": "python",
   "name": "python3"
  },
  "language_info": {
   "codemirror_mode": {
    "name": "ipython",
    "version": 3
   },
   "file_extension": ".py",
   "mimetype": "text/x-python",
   "name": "python",
   "nbconvert_exporter": "python",
   "pygments_lexer": "ipython3",
   "version": "3.6.5"
  }
 },
 "nbformat": 4,
 "nbformat_minor": 2
}
