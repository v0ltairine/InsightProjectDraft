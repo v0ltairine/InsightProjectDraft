{
 "cells": [
  {
   "cell_type": "code",
   "execution_count": 1,
   "metadata": {},
   "outputs": [],
   "source": [
    "import wikipediaapi\n",
    "from sqlalchemy import create_engine\n",
    "from sqlalchemy_utils import database_exists, create_database\n",
    "import psycopg2\n",
    "import pandas as pd\n",
    "import csv"
   ]
  },
  {
   "cell_type": "code",
   "execution_count": 2,
   "metadata": {},
   "outputs": [
    {
     "name": "stdout",
     "output_type": "stream",
     "text": [
      "199\n",
      "......................................................................................................................................................................................................."
     ]
    }
   ],
   "source": [
    "wiki_wiki = wikipediaapi.Wikipedia('en')\n",
    "\n",
    "cat_women_inventors = wiki_wiki.page(\"Category:Women inventors\")\n",
    "\n",
    "profiles_api_list = []\n",
    "\n",
    "all_profiles = cat_women_inventors.categorymembers\n",
    "\n",
    "print(len(all_profiles))\n",
    "\n",
    "for name, page in all_profiles.items():\n",
    "    info = {\n",
    "        \"name\": name,\n",
    "        \"url\": page.fullurl,\n",
    "        \"text\": page.text,\n",
    "    }\n",
    "    profiles_api_list.append(info)\n",
    "    print(\".\", end='', flush=True)\n"
   ]
  },
  {
   "cell_type": "code",
   "execution_count": 3,
   "metadata": {},
   "outputs": [],
   "source": [
    "conn = psycopg2.connect(host = \"localhost\", dbname = \"rolemodel\", user = \"marieskoczylas\", port=5432)\n",
    "cur = conn.cursor()"
   ]
  },
  {
   "cell_type": "code",
   "execution_count": 4,
   "metadata": {},
   "outputs": [
    {
     "data": {
      "text/plain": [
       "<connection object at 0x11d06a568; dsn: 'host=localhost dbname=rolemodel user=marieskoczylas port=5432', closed: 0>"
      ]
     },
     "execution_count": 4,
     "metadata": {},
     "output_type": "execute_result"
    }
   ],
   "source": [
    "conn"
   ]
  },
  {
   "cell_type": "code",
   "execution_count": 5,
   "metadata": {},
   "outputs": [],
   "source": [
    "for profiledict in profiles_api_list:\n",
    "    cur.execute(\"INSERT INTO profiles (fullname, hyperlink, profile) VALUES (%s, %s, %s)\", \n",
    "               (profiledict[\"name\"], profiledict[\"url\"], profiledict[\"text\"]))\n",
    "    \n",
    "conn.commit()"
   ]
  },
  {
   "cell_type": "code",
   "execution_count": 6,
   "metadata": {},
   "outputs": [
    {
     "name": "stdout",
     "output_type": "stream",
     "text": [
      "(996, 'List of women innovators and inventors by country', \"This is a list of notable women innovators and inventors displayed by country:\\n\\nAustralia\\nRose Cumming (1884–1968), innovative interior decoration\\nSally Dominguez (born 1969), modular rainwater tank\\nMyra Juliet Farrell (1878–1957), tailoring devices, fruit picker\\nMelissa George (born 1976), style snaps\\nVeena Sahajwalla (fl 2010s), green steel\\n\\nAustria\\nIngeborg Hochmair (born 1953), medical devices, cochlear implants\\nLise Meitner (1878–1968), radioactivity, nuclear physics\\n\\nBelgium\\nPrincess Stéphanie of Belgium (1864–1945), chafing dis\\n\\nBrazil\\nChu Ming Silveira(1941-1997),public telephone\\n\\nCanada\\nYvonne Brill (1924–2013), propulsion technologies\\nMaya Burhanpurkar (born 1999), Alzheimer's drugs\\nMartha Matilda Harper (1857–1950), hair tonic\\nRosalyn Sussman Yalow (born 1972), Blissymbol Printer\\n\\nChina\\nJoyce Chen (1917–1994), woks\\nLanying Lin (1918–2003), material engineering\\nRosalyn Sussman Yalow (born 1965), brain-science-based learning tools\\n\\nDenmark\\nDorthe Dahl-Jensen (born 1958), ice cores\\nIda Tin (fl 2015), menstruation app\\n\\nEgypt\\nHypatia (c.350–415 BC), mathematics, astronomy\\n\\nFrance\\nMartine Bertereau (born c1600), mineralogy\\nMarie Boivin (1773–1841), pelvimeter, vaginal speculum\\nHerminie Cadolle (1845–1926), brassiere\\nMadame Clicquot Ponsardin (1777-1866), Champagne riddling\\nMarie Harel (1761–1844), Camembert cheese\\nGéraldine Le Meur (born 1972), digital innovation\\nMarie Marvingt (1875–1963), metal plane skis\\nMarguerite Perey (1909–1975), francium\\nJoanna Truffaut (fl from 2000), urban Wi-Fi networks\\nJeanne Villepreux-Power (1794–1871), aquaria\\n\\nGermany\\nK. Johanna (Joana) Altmann (born 1971), social media\\nMelitta Bentz (1873–1950), coffee filter\\nJudith Esser-Mittag (born 1921), digital tampon\\nMarga Faulstich (1915–1998), optical glass\\nSonja de Lennart (born 1920), Capri pants\\nIda Noddack (1896–1978), nuclear fission\\nEmmy Noether (1882–1935), algebra, physics\\nMargarete Steiff (1847–1909), stuffed animals\\nBrigitte Voit (born 1963), polymers\\n\\nHungary\\nMária Telkes (1900–1995), solar energy\\n\\nIndia\\nPratibha Gai (fl from 1974), electron microscopy\\nSylvia Ratnasamy (born 1976), distributed hash table\\n\\nIsrael\\nRuth Arnon (born 1933), multiple sclerosis drug\\n\\nItaly\\nMaria Abbracchio (born 1956), pharmacology\\nPatrizia A. Caraveo (born 1954), particle physics\\nMaria Cristina Facchini (fl from 1980s), aerosols\\nElena of Montenegro (1873–1952), signed photographs\\n\\nLatvia\\nLina Stern (1878–1968), blood-brain barrier\\n\\nNetherlands\\nSaskia Wieringa (born 1950), gender relations\\n\\nNew Zealand\\nElizabeth Ann Louisa Mackay (1843–1908), cooking utensils\\n\\nNigeria\\nOmowunmi Sadik (born 1964), microelectrode sensing, environmental applications\\n\\nPoland\\nMarie Curie (1867–1934), radioactivity\\n\\nPortugal\\nAntonia Ferreira (1811–1896), winemaking\\n\\nPuerto Rico\\nOlga D. González-Sanabria (fl from 1979), battery technology, systems management\\n\\nRussia\\nAnna Pavlova (1881–1931), pointe shoes for ballet\\n\\nSpain\\nConcepción Aleixandre (1862–1952), gynecology\\nÁngela Ruiz Robles (1895–1975), electronic book reader\\n\\nSweden\\nMaria Christina Bruhn (1732–1808), gunpowder packaging\\nEva Ekeblad (1724–1786), agronomy\\nAmalia Eriksson (1824–1923), candy stick\\nSimone Giertz (born 1960), robotic devices\\nHanna Hammarström (1829–1909), telephone wires\\n\\nUnited Kingdom\\nPrincess Anne of Löwenstein-Wertheim-Freudenberg 1864–1927, automatic balancing bed\\nAnna Atkins (1799–1871), photography\\nHertha Ayrton (1854–1923), electric arc lighting\\nMelitta Bentz (died 1836), Berkley Horse\\nRoxey Ann Caplin (1793–1888), corsetry\\nAdelaide Claxton (fl 1860s–1890s), ear caps\\nEleanor Coade (1733–1821), artificial stoneware\\nEmily Cummins (born 1987), evaporative refrigeration\\nFiona Fairhurst (fl 2009), swimsuits\\nChristine Foyer (born 1952), plant science\\nIda Freund (1863–1914), gas measurement\\nBarbara Gilmour (died 1732), cheese making\\nSarah Guppy (1770–1852), bridge construction, domestic devices\\nMandy Haberman (born 1956), baby bottles\\nDiane Hart (1926–2002), corsetry\\nValerie Hunter Gordon (1921–2016), disposable diapers, sanitary towels\\nPhyllis Margaret Tookey Kerridge (1901–1940), glass electrodes\\nMarie Killick (1914–1964), sapphire stylus\\nHeather Martin (designer) (fl from 2000), interaction design\\nJane A. McKeating (fl from 1990s), molecular biology\\nEmma Parmee (fl from 1990s), antidiabetic drugs\\nBeatrice Shilling (1909–1990), device for aircraft engines\\nBridget Elizabeth Talbot (1885–1971), watertight electric torch\\nClara Millicent Taylor (1871–1960), organic chemistry\\n\\nUnited States\\nA\\nBerenice Abbott (1898–1991), photography\\nAlice Alldredge (born 1949), marine biology\\nRandi Altschul (born 1960), cellphones, games and toys\\nSusan Amara (fl from 2000), drug discovery\\nAnne Anastasi (1908–2001), pschometrics\\nBetsy Ancker-Johnson (born 1927), plasma physics\\nBeth Anderson (born 1950), music composition\\nLaurie Anderson (born 1947), electronic music\\nMary Anderson, windscreen wipers\\nSuz Andreasen (born 1964), jewellery\\nVirginia Apgar (1909–1974), health of newborns\\nBarbara Askins (born 1939), photographic negative enhancement\\nB\\nTabitha Babbitt (1779–c1853), tool making\\nBetty Lou Bailey (1929–2007), exhaust nozzle\\nEllene Alice Bailey (1853–1897), clothing, household goods\\nAlice Pike Barney (1857–1931), mechanical devices\\nJanet Emerson Bashen (born 1957), software\\nPatricia Bath (born 1942), medical devices\\nMaria Beasley (fl 1870s–1890s), barrel hooper, life rafts\\nRuth Benedict (1887–1948), anthropology\\nRuth R. Benerito (1916–2013), cotton fabrics\\nMiriam Benjamin (1861–1947), hotel chairs\\nBarbara Beskind (fl 1945–1956), therapeutic devices\\nHazel Bishop (1906–1998), lipstick\\nSara Blakely (born 1971), hosiery\\nHelen Blanchard (1840–1922), sewing machines\\nJoani Blank (1937–2016), vibrators\\nKatharine Burr Blodgett (1898–1979), low-reflectance glass\\nBessie Blount Griffin (1914–2009), feeding devices, disposable basins\\nVanna Bonta (1958–2014), flight suit for weightless environments\\nSarah Boone (1832–1904), ironing boards\\nLouise Brigham (1875–1956), modular furniture design\\nMarie Van Brittan Brown (1922–1999), home security systems\\nRachel Fuller Brown (1898–1980), antibiotics\\nMary Brush (fl 1815), corsets\\nC\\nMary P. Carpenter (1840–1900), sewing machines, mosquito nets\\nLeona Chalmers (fl 1937), menstual cup\\nMelanie Chartoff (born 1950), water recycling\\nDeanna M. Church (fl from 1990s), human genome\\nInga Stephens Pratt Clark (1906–1970), scarf\\nEdith Clarke (1883–1959), electrical engineering\\nJosephine Cochrane (1839–1913), dishwasher\\nLynn Conway (born 1938), computer science\\nMartha Coston (1826–1904), marine signalling\\nCathy A. Cowan (fl from 1990s), health care cost trends\\nCaresse Crosby (1891–1970), modern bra\\nJamie Lee Curtis (born 1958), diapers\\nD\\nConstance Demby (born 1939), electronic musical instruments\\nMarion Donovan (1917–1998), disposable diapers\\nEmily C. Duncan (born 1849), banking calculators\\nE\\nEllen Eglin (born 1849), clothes wringer\\nGertrude B. Elion (1918–1999), medical research, drugs\\nF\\nEdith M. Flanigen (born 1929), molecular sieves\\nEunice Newton Foote (1819–1888), greenhouse effect, boot soles\\nHelen Murray Free (born 1923), diabetes tests\\nG\\nRuth Graves Wakefield (1903–1977), chocolate chip cookies\\nSarah E. Goode (1855–1905), folding cabinet bed\\nLinda Gottfredson (born 1947), educational psychology\\nBette Nesmith Graham (1924–1980), liquid paper\\nTemple Grandin (born 1947), autism\\nLori Greiner (born 1969), household sponge, toilet accessories\\nH\\nMary Hallock-Greenewalt (1871–1950), visual music\\nRuth Handler (1916–2002), Barby doll\\nElise Harmon (1909–1985), computer miniaturization\\nAmi Harten (1946–1994), applied mathematics\\nElizabeth Lee Hazen (1885–1975), antifungal medication\\nMarti Hearst (fl from 1990s), text mining\\nAda Henry Van Pelt (1838–1923), water purification\\nBeulah Louise Henry (1887–1973), sewing machines, freezers, typewriters\\nLeta Stetter Hollingworth (1886–1939), educational psychology\\nErna Schneider Hoover (born 1926), computerized telephone switching\\nGrace Hopper (1906–1992), computer programming language compiler\\nIda Henrietta Hyde (1857–1945), intracellular micropippette electrode\\nJ\\nMary Lou Jepsen (born 1965), computer applications, sunlight-readable display, laptop development\\nKaren C. Johnson (born 1955), preventative health\\nKristina M. Johnson (born 1957), optoelectronic processing, 3-D imaging\\nAmanda Jones (1935–1914), vacuum canning\\nEldorado Jones (1860–1932), aeronautical mufflers, electric iron developments\\nMarjorie Joyner (1896–1994), cosmetics, permanent waving\\nK\\nAnna Keichline (1899–1943), interior design, kitchen features, construction bricks\\nMary Beatrice Davidson Kenner (1912–2006), sanitary belt\\nMary Dixon Kies (1752–1837), hat manufacture\\nElizabeth Kingsley (1871–1957), crossword puzzles\\nMargaret E. Knight (1838–1914), flat-bottomed paper bag\\nJune Kroenke (fl 1960s–1990s), sewing tools\\nDeepika Kurup (born 1998), solar-powered water purification\\nStephanie Kwolek (1923–2014), synthetic fibres\\nL\\nHedy Lamarr (1914–2000), radio guidance systems\\nEsther Lederberg (1922–2006), microbial genetics\\nCricket Lee (born 1953), clothing fitting\\nTara Lemmey (fl 2010s), information technology\\nM\\nElizabeth Magie (1866–1948), game of Monopoly\\nMisha Mahowald (1963–1996), computational systems\\nAnnie Malone (1869–1957), cosmetics\\nJoy Mangano (born 1956), self-wringing mop, luggage systems\\nElizabeth Holloway Marston (1893–1993), systolic blood-pressure test\\nSybilla Righton Masters (1676–1720), corn milling, hat making\\nMelanie Mayron (born 1952), skin care products\\nFrances McConnell-Mills (1900–1975), hair rinse\\nFlorence Melton (1911–2007), foam-soled slippers\\nYnes Mexia (1870–1938), botany\\nCatharine Cox Miles (1890–1984), human intelligence\\nKaren Mohlke (fl from 1990s), human genetics\\nMary Sherman Morgan (1921–2004), Hydyne rocket fuel\\nVirginia A. Myers (1927–2015), printing press developments\\nN\\nLyda D. Newman (fl 1890s), hairbrush\\nP\\nBonnie Pemberton (fl from 1990s), cat anti-scratch deterrent\\nRadia Perlman (born 1951), spanning-tree networking protocol\\nLindsay Phillips (born 1984), flip-flop design\\nR\\nSibyl M. Rock (1909–1981), mass spectrometry\\nErnestine Rose (1810–1892), deodorizer\\nLorraine Rothman (1932–2007), menstrual extraction kit\\nS\\nLeona D. Samson (born 1952), DNA repair\\nSandra Scarr (born 1936), developmental psychology\\nPatsy O'Connell Sherman (1930–2008), Scotchgard, repellents\\nAmy B. Smith (born 1962), screenless hammer mill, phase-change incubator\\nPamela S. Soltis (born 1957), botany, polyploidy\\nHarriet Williams Russell Strong (1844–1926), water storage\\nJanese Swanson (born 1958), educational games\\nT\\nEsther Takeuchi (born 1953), energy storage\\nValerie Thomas (born 1943), illustion transmetter\\nMadeline Turner (fl 1916), fruit press\\nAnne Tyng (1920–2011), children's construction set\\nW\\nGrace Wahba (born 1934), statistics\\nMary Walton (fl 1879), reduced hazards of smoke emissions\\nSandra Welner (1858–2001), patient examination table\\nEliza Wilbur (1851–1930), telescopes\\nNancy Farley Wood (1903–2003), ionizing radiation detectors\\nY\\nRosalyn Sussman Yalow (1921–2011), radioimmunoassay technique\\n\\n\\n== References ==\", 'https://en.wikipedia.org/wiki/List_of_women_innovators_and_inventors_by_country', None, None, None)\n"
     ]
    }
   ],
   "source": [
    "cur.execute(\"SELECT * from profiles\")\n",
    "profiles = cur.fetchall()\n",
    "print(profiles[0])"
   ]
  },
  {
   "cell_type": "code",
   "execution_count": 7,
   "metadata": {},
   "outputs": [],
   "source": [
    "cur.execute(\"DELETE FROM profiles WHERE fullname = 'List of women innovators and inventors by country'\")\n",
    "conn.commit()\n",
    "cur.execute(\"DELETE FROM profiles WHERE fullname = 'List of historical Pennsylvania women'\")\n",
    "conn.commit()\n",
    "cur.execute(\"DELETE FROM profiles WHERE fullname = 'List of women inventors'\")\n",
    "conn.commit()"
   ]
  },
  {
   "cell_type": "code",
   "execution_count": null,
   "metadata": {},
   "outputs": [],
   "source": []
  },
  {
   "cell_type": "code",
   "execution_count": null,
   "metadata": {},
   "outputs": [],
   "source": []
  },
  {
   "cell_type": "code",
   "execution_count": null,
   "metadata": {
    "scrolled": true
   },
   "outputs": [],
   "source": []
  },
  {
   "cell_type": "code",
   "execution_count": null,
   "metadata": {},
   "outputs": [],
   "source": []
  },
  {
   "cell_type": "code",
   "execution_count": null,
   "metadata": {},
   "outputs": [],
   "source": []
  },
  {
   "cell_type": "code",
   "execution_count": null,
   "metadata": {},
   "outputs": [],
   "source": []
  }
 ],
 "metadata": {
  "kernelspec": {
   "display_name": "Python 3",
   "language": "python",
   "name": "python3"
  },
  "language_info": {
   "codemirror_mode": {
    "name": "ipython",
    "version": 3
   },
   "file_extension": ".py",
   "mimetype": "text/x-python",
   "name": "python",
   "nbconvert_exporter": "python",
   "pygments_lexer": "ipython3",
   "version": "3.6.5"
  }
 },
 "nbformat": 4,
 "nbformat_minor": 2
}
