{
 "cells": [
  {
   "cell_type": "code",
   "execution_count": 22,
   "metadata": {},
   "outputs": [
    {
     "name": "stdout",
     "output_type": "stream",
     "text": [
      "/wiki/Josephine_Cables_Aldrich\n",
      "/wiki/Lorraine_Ali\n",
      "/wiki/Johari_Amini\n",
      "/wiki/Ruth_Nanda_Anshen\n",
      "/wiki/Janelle_Asselin\n"
     ]
    },
    {
     "ename": "ProgrammingError",
     "evalue": "relation \"womeneditors3\" already exists\n",
     "output_type": "error",
     "traceback": [
      "\u001b[0;31m---------------------------------------------------------------------------\u001b[0m",
      "\u001b[0;31mProgrammingError\u001b[0m                          Traceback (most recent call last)",
      "\u001b[0;32m<ipython-input-22-6c8e63cbb169>\u001b[0m in \u001b[0;36m<module>\u001b[0;34m()\u001b[0m\n\u001b[1;32m    111\u001b[0m \u001b[0;34m\u001b[0m\u001b[0m\n\u001b[1;32m    112\u001b[0m \u001b[0mEditors\u001b[0m \u001b[0;34m=\u001b[0m \u001b[0mread_Women_pages\u001b[0m\u001b[0;34m(\u001b[0m\u001b[0mWomen_URLs\u001b[0m\u001b[0;34m)\u001b[0m\u001b[0;34m\u001b[0m\u001b[0m\n\u001b[0;32m--> 113\u001b[0;31m \u001b[0mBuild_DB\u001b[0m\u001b[0;34m(\u001b[0m\u001b[0mEditors\u001b[0m\u001b[0;34m)\u001b[0m\u001b[0;34m\u001b[0m\u001b[0m\n\u001b[0m",
      "\u001b[0;32m<ipython-input-22-6c8e63cbb169>\u001b[0m in \u001b[0;36mBuild_DB\u001b[0;34m(Editors)\u001b[0m\n\u001b[1;32m     86\u001b[0m \u001b[0;34m\u001b[0m\u001b[0m\n\u001b[1;32m     87\u001b[0m         \u001b[0;31m# text field may not be large enough. Look at it later\u001b[0m\u001b[0;34m\u001b[0m\u001b[0;34m\u001b[0m\u001b[0m\n\u001b[0;32m---> 88\u001b[0;31m         \u001b[0mcur\u001b[0m\u001b[0;34m.\u001b[0m\u001b[0mexecute\u001b[0m\u001b[0;34m(\u001b[0m\u001b[0;34m\"CREATE TABLE WomenEditors3(Id INTEGER, Name VARCHAR(120), BigText VARCHAR(32000))\"\u001b[0m\u001b[0;34m)\u001b[0m\u001b[0;34m\u001b[0m\u001b[0m\n\u001b[0m\u001b[1;32m     89\u001b[0m         \u001b[0;31m# WomenEditors\u001b[0m\u001b[0;34m\u001b[0m\u001b[0;34m\u001b[0m\u001b[0m\n\u001b[1;32m     90\u001b[0m \u001b[0;34m\u001b[0m\u001b[0m\n",
      "\u001b[0;31mProgrammingError\u001b[0m: relation \"womeneditors3\" already exists\n"
     ]
    }
   ],
   "source": [
    "from bs4 import BeautifulSoup as bs\n",
    "import requests\n",
    "from bs4.element import Comment\n",
    "import urllib.request\n",
    "import psycopg2\n",
    "#from config import Config (not sure if I need this, maybe later, couldn't figure out how to import)\n",
    "import sys\n",
    "\n",
    "res = requests.get(\"https://en.wikipedia.org/wiki/Category:Women_editors\")\n",
    "soupW = bs(res.text, \"html.parser\")\n",
    "Women_Editors = {}\n",
    "Women_URLs = []\n",
    "bHaveFirst = False\n",
    "bHasLast = False\n",
    "# /wiki/Josephine_Cables_Aldrich (so I know what the first name should be)\n",
    "# /wiki/Vera_Zouroff (so I know what the last name should be)\n",
    "for link in soupW.find_all(\"a\"):\n",
    "    url = link.get(\"href\", \"\")\n",
    "    if not bHaveFirst and \"/wiki/Josephine_Cables_Aldrich\" in url:\n",
    "        bHaveFirst = True\n",
    "    if not bHasLast and \"/wiki/Vera_Zouroff\" in url:\n",
    "        bHasLast= True\n",
    "    if bHaveFirst and \"/wiki/\" in url:\n",
    "        Women_Editors[link.text.strip()] = url\n",
    "        Women_URLs.append(url)\n",
    "        #print(url)\n",
    "    if bHasLast:\n",
    "        break\n",
    "        \n",
    "def tag_visible(element):\n",
    "    if element.parent.name in ['style', 'script', 'head', 'title', 'meta', '[document]']:\n",
    "        return False\n",
    "    if isinstance(element, Comment):\n",
    "        return False\n",
    "    return True\n",
    "\n",
    "\n",
    "def text_from_html(body):\n",
    "    soup = bs(body, 'html.parser')\n",
    "    texts = soup.findAll(text = True)\n",
    "    visible_texts = filter(tag_visible, texts)  \n",
    "    return u\" \".join(t.strip() for t in visible_texts)\n",
    "\n",
    "def read_Women_pages(Women_Editors):\n",
    "    EditorRows = []\n",
    "    pref = \"https://en.wikipedia.org//\"    \n",
    "    i = 1\n",
    "    for OneURL in Women_Editors:\n",
    "        print(OneURL)\n",
    "        html = urllib.request.urlopen(pref+OneURL).read()\n",
    "        longText = text_from_html(html)\n",
    "        #print(longText)\n",
    "        EditorRows.append((i, OneURL, longText))\n",
    "        i = i+1\n",
    "        if i > 5:\n",
    "            break\n",
    "    return EditorRows\n",
    "\n",
    "def Insert_Author(cur, TableName, OneTup):\n",
    "    #strCommand = \"INSERT INTO \" + TableName +  \"VALUES(\" + str(OneTup[0]) + \", \\\"\" + OneTup[1] + \"\\\", \\\"\" + OneTup[2] + \"\\\")\" \n",
    "    \n",
    "    #strName = \"\\\"\" + OneTup[1] + \"\\\"\"\n",
    "    #strYuk = \"\\\"\" + OneTup[2] + \"\\\"\"\n",
    "    #strCommand = \"INSERT INTO \" + TableName + \" VALUES(\" + str(OneTup[0]) + \",\"+ strName + \",\" + strYuk + \")\"\n",
    "    \n",
    "    #strCommand = \"INSERT INTO \" + TableName +  \"VALUES(str(OneTup[0]), \"\"\\\"\" + OneTup[1] + \"\\\", \\\"\" + OneTup[2] + \"\\\")\" \n",
    "    #print(strCommand)\n",
    "    #cur.execute(strCommand)\n",
    "    \n",
    "    query = \"INSERT INTO \" + TableName + \"(Id, Name, BigText) VALUES (%s, %s, %s);\"\n",
    "    #query = \"INSERT INTO \" + TableName + \"(Name, BigText) VALUES (%s, %s);\"\n",
    "    cur.execute(query, OneTup) \n",
    "    \n",
    "    print(query)\n",
    "\n",
    "\n",
    "    \n",
    "def Build_DB(Editors):\n",
    "\n",
    "    con = None\n",
    "\n",
    "    try:        \n",
    "        con = psycopg2.connect(\"dbname='profiles' user='marieskoczylas'\")   \n",
    "\n",
    "        cur = con.cursor()\n",
    "\n",
    "        # text field may not be large enough. Look at it later\n",
    "        cur.execute(\"CREATE TABLE WomenEditors3(Id INTEGER, Name VARCHAR(120), BigText VARCHAR(32000))\")\n",
    "        # WomenEditors\n",
    "        \n",
    "        for OneEd in Editors:\n",
    "            Insert_Author(cur, \"WomenEditors3\", OneEd)\n",
    "        \n",
    "        #cur.execute(\"INSERT INTO Cars VALUES(1,'Audi',52642)\")\n",
    "        \n",
    "        con.commit()\n",
    "\n",
    "\n",
    "    #except psycopg2.DatabaseError, e:\n",
    "    #    if con:\n",
    "    #        con.rollback()\n",
    "    #    print 'Error %s' % e    \n",
    "    #    sys.exit(1)\n",
    "\n",
    "\n",
    "    finally:\n",
    "\n",
    "        if con:\n",
    "            con.close()\n",
    "    \n",
    "    \n",
    "Editors = read_Women_pages(Women_URLs)\n",
    "Build_DB(Editors)\n"
   ]
  },
  {
   "cell_type": "code",
   "execution_count": 6,
   "metadata": {},
   "outputs": [
    {
     "name": "stdout",
     "output_type": "stream",
     "text": [
      "postgres://marieskoczylas@localhost/profiles\n"
     ]
    }
   ],
   "source": [
    "dbname = 'profiles'\n",
    "username = 'marieskoczylas'\n",
    "engine = create_engine('postgres://%s@localhost/%s'%(username,dbname))\n",
    "print(engine.url)"
   ]
  },
  {
   "cell_type": "code",
   "execution_count": 5,
   "metadata": {},
   "outputs": [],
   "source": [
    "from sqlalchemy import create_engine\n",
    "from sqlalchemy_utils import database_exists, create_database\n",
    "import psycopg2\n",
    "import pandas as pd"
   ]
  },
  {
   "cell_type": "code",
   "execution_count": 7,
   "metadata": {},
   "outputs": [
    {
     "name": "stdout",
     "output_type": "stream",
     "text": [
      "True\n"
     ]
    }
   ],
   "source": [
    "if not database_exists(engine.url):\n",
    "    create_database(engine.url)\n",
    "print(database_exists(engine.url))"
   ]
  },
  {
   "cell_type": "code",
   "execution_count": 21,
   "metadata": {},
   "outputs": [
    {
     "data": {
      "text/html": [
       "<div>\n",
       "<style scoped>\n",
       "    .dataframe tbody tr th:only-of-type {\n",
       "        vertical-align: middle;\n",
       "    }\n",
       "\n",
       "    .dataframe tbody tr th {\n",
       "        vertical-align: top;\n",
       "    }\n",
       "\n",
       "    .dataframe thead th {\n",
       "        text-align: right;\n",
       "    }\n",
       "</style>\n",
       "<table border=\"1\" class=\"dataframe\">\n",
       "  <thead>\n",
       "    <tr style=\"text-align: right;\">\n",
       "      <th></th>\n",
       "      <th>id</th>\n",
       "      <th>name</th>\n",
       "      <th>bigtext</th>\n",
       "    </tr>\n",
       "  </thead>\n",
       "  <tbody>\n",
       "    <tr>\n",
       "      <th>0</th>\n",
       "      <td>1</td>\n",
       "      <td>/wiki/Josephine_Cables_Aldrich</td>\n",
       "      <td>Main Page   From Wikipedia, the free ...</td>\n",
       "    </tr>\n",
       "    <tr>\n",
       "      <th>1</th>\n",
       "      <td>2</td>\n",
       "      <td>/wiki/Lorraine_Ali</td>\n",
       "      <td>Main Page   From Wikipedia, the free ...</td>\n",
       "    </tr>\n",
       "    <tr>\n",
       "      <th>2</th>\n",
       "      <td>3</td>\n",
       "      <td>/wiki/Johari_Amini</td>\n",
       "      <td>Main Page   From Wikipedia, the free ...</td>\n",
       "    </tr>\n",
       "    <tr>\n",
       "      <th>3</th>\n",
       "      <td>4</td>\n",
       "      <td>/wiki/Ruth_Nanda_Anshen</td>\n",
       "      <td>Main Page   From Wikipedia, the free ...</td>\n",
       "    </tr>\n",
       "    <tr>\n",
       "      <th>4</th>\n",
       "      <td>5</td>\n",
       "      <td>/wiki/Janelle_Asselin</td>\n",
       "      <td>Main Page   From Wikipedia, the free ...</td>\n",
       "    </tr>\n",
       "  </tbody>\n",
       "</table>\n",
       "</div>"
      ],
      "text/plain": [
       "   id                            name  \\\n",
       "0   1  /wiki/Josephine_Cables_Aldrich   \n",
       "1   2              /wiki/Lorraine_Ali   \n",
       "2   3              /wiki/Johari_Amini   \n",
       "3   4         /wiki/Ruth_Nanda_Anshen   \n",
       "4   5           /wiki/Janelle_Asselin   \n",
       "\n",
       "                                             bigtext  \n",
       "0           Main Page   From Wikipedia, the free ...  \n",
       "1           Main Page   From Wikipedia, the free ...  \n",
       "2           Main Page   From Wikipedia, the free ...  \n",
       "3           Main Page   From Wikipedia, the free ...  \n",
       "4           Main Page   From Wikipedia, the free ...  "
      ]
     },
     "execution_count": 21,
     "metadata": {},
     "output_type": "execute_result"
    }
   ],
   "source": [
    "con = psycopg2.connect(\"dbname='profiles' user='marieskoczylas'\")   \n",
    "cur = con.cursor()\n",
    "\n",
    "# query:\n",
    "sql_query = \"\"\"\n",
    "SELECT * FROM WomenEditors3;\n",
    "\"\"\"\n",
    "view_from_sql = pd.read_sql_query(sql_query,con)\n",
    "view_from_sql.head()"
   ]
  },
  {
   "cell_type": "code",
   "execution_count": 24,
   "metadata": {},
   "outputs": [
    {
     "data": {
      "text/html": [
       "<div>\n",
       "<style scoped>\n",
       "    .dataframe tbody tr th:only-of-type {\n",
       "        vertical-align: middle;\n",
       "    }\n",
       "\n",
       "    .dataframe tbody tr th {\n",
       "        vertical-align: top;\n",
       "    }\n",
       "\n",
       "    .dataframe thead th {\n",
       "        text-align: right;\n",
       "    }\n",
       "</style>\n",
       "<table border=\"1\" class=\"dataframe\">\n",
       "  <thead>\n",
       "    <tr style=\"text-align: right;\">\n",
       "      <th></th>\n",
       "      <th>?column?</th>\n",
       "    </tr>\n",
       "  </thead>\n",
       "  <tbody>\n",
       "    <tr>\n",
       "      <th>0</th>\n",
       "      <td>bigtext</td>\n",
       "    </tr>\n",
       "  </tbody>\n",
       "</table>\n",
       "</div>"
      ],
      "text/plain": [
       "  ?column?\n",
       "0  bigtext"
      ]
     },
     "execution_count": 24,
     "metadata": {},
     "output_type": "execute_result"
    }
   ],
   "source": [
    "sql_query = \"\"\"\n",
    "SELECT 'bigtext' FROM WomenEditors3 WHERE id='2';\n",
    "\"\"\"\n",
    "view_from_sql = pd.read_sql_query(sql_query,con)\n",
    "view_from_sql.head()"
   ]
  },
  {
   "cell_type": "code",
   "execution_count": null,
   "metadata": {},
   "outputs": [],
   "source": []
  }
 ],
 "metadata": {
  "kernelspec": {
   "display_name": "Python 3",
   "language": "python",
   "name": "python3"
  },
  "language_info": {
   "codemirror_mode": {
    "name": "ipython",
    "version": 3
   },
   "file_extension": ".py",
   "mimetype": "text/x-python",
   "name": "python",
   "nbconvert_exporter": "python",
   "pygments_lexer": "ipython3",
   "version": "3.6.5"
  }
 },
 "nbformat": 4,
 "nbformat_minor": 2
}
