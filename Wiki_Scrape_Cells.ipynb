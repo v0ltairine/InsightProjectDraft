{
 "cells": [
  {
   "cell_type": "markdown",
   "metadata": {},
   "source": [
    "# Wiki Scrape notebook\n",
    "mpkt"
   ]
  },
  {
   "cell_type": "code",
   "execution_count": null,
   "metadata": {},
   "outputs": [],
   "source": [
    "from bs4 import BeautifulSoup as bs\n",
    "import requests\n",
    "from bs4.element import Comment\n",
    "import urllib.request\n",
    "import psycopg2\n",
    "#from config import Config (not sure if I need this, maybe later, couldn't figure out how to import)\n",
    "import sys\n",
    "from sqlalchemy import create_engine\n",
    "from sqlalchemy_utils import database_exists, create_database\n",
    "import psycopg2\n",
    "import pandas as pd\n"
   ]
  },
  {
   "cell_type": "code",
   "execution_count": 10,
   "metadata": {},
   "outputs": [],
   "source": [
    "res = requests.get(\"https://en.wikipedia.org/wiki/Category:Women_editors\")\n",
    "soupW = bs(res.text, \"html.parser\")\n",
    "Women_Editors = {}\n",
    "Women_URLs = []\n",
    "bHaveFirst = False\n",
    "bHasLast = False\n",
    "# /wiki/Josephine_Cables_Aldrich (so I know what the first name should be)\n",
    "# /wiki/Vera_Zouroff (so I know what the last name should be)\n",
    "for link in soupW.find_all(\"a\"):\n",
    "    url = link.get(\"href\", \"\")\n",
    "    if not bHaveFirst and \"/wiki/Josephine_Cables_Aldrich\" in url:\n",
    "        bHaveFirst = True\n",
    "    if not bHasLast and \"/wiki/Vera_Zouroff\" in url:\n",
    "        bHasLast= True\n",
    "    if bHaveFirst and \"/wiki/\" in url:\n",
    "        Women_Editors[link.text.strip()] = url\n",
    "        Women_URLs.append(url)\n",
    "        #print(url)\n",
    "    if bHasLast:\n",
    "        break\n",
    "        "
   ]
  },
  {
   "cell_type": "code",
   "execution_count": 11,
   "metadata": {},
   "outputs": [],
   "source": [
    "def tag_visible(element):\n",
    "    if element.parent.name in ['style', 'script', 'head', 'title', 'meta', '[document]']:\n",
    "        return False\n",
    "    if isinstance(element, Comment):\n",
    "        return False\n",
    "    return True"
   ]
  },
  {
   "cell_type": "code",
   "execution_count": 12,
   "metadata": {},
   "outputs": [],
   "source": [
    "def text_from_html(body):\n",
    "    soup = bs(body, 'html.parser')\n",
    "    texts = soup.findAll(text = True)\n",
    "    visible_texts = filter(tag_visible, texts)  \n",
    "    return u\" \".join(t.strip() for t in visible_texts)\n"
   ]
  },
  {
   "cell_type": "code",
   "execution_count": 13,
   "metadata": {},
   "outputs": [],
   "source": [
    "def read_Women_pages(Women_Editors):\n",
    "    EditorRows = []\n",
    "    pref = \"https://en.wikipedia.org//\"    \n",
    "    i = 1\n",
    "    for OneURL in Women_Editors:\n",
    "        print(OneURL)\n",
    "        html = urllib.request.urlopen(pref+OneURL).read()\n",
    "        longText = text_from_html(html)\n",
    "        #print(longText)\n",
    "        EditorRows.append((i, OneURL, longText))\n",
    "        i = i+1\n",
    "        if i > 5:\n",
    "            break\n",
    "    return EditorRows\n"
   ]
  },
  {
   "cell_type": "code",
   "execution_count": 14,
   "metadata": {},
   "outputs": [],
   "source": [
    "def Insert_Author(cur, TableName, OneTup):\n",
    "    #strCommand = \"INSERT INTO \" + TableName +  \"VALUES(\" + str(OneTup[0]) + \", \\\"\" + OneTup[1] + \"\\\", \\\"\" + OneTup[2] + \"\\\")\" \n",
    "    \n",
    "    #strName = \"\\\"\" + OneTup[1] + \"\\\"\"\n",
    "    #strYuk = \"\\\"\" + OneTup[2] + \"\\\"\"\n",
    "    #strCommand = \"INSERT INTO \" + TableName + \" VALUES(\" + str(OneTup[0]) + \",\"+ strName + \",\" + strYuk + \")\"\n",
    "    \n",
    "    #strCommand = \"INSERT INTO \" + TableName +  \"VALUES(str(OneTup[0]), \"\"\\\"\" + OneTup[1] + \"\\\", \\\"\" + OneTup[2] + \"\\\")\" \n",
    "    #print(strCommand)\n",
    "    #cur.execute(strCommand)\n",
    "    \n",
    "    query = \"INSERT INTO \" + TableName + \"(Id, Name, BigText) VALUES (%s, %s, %s);\"\n",
    "    #query = \"INSERT INTO \" + TableName + \"(Name, BigText) VALUES (%s, %s);\"\n",
    "    cur.execute(query, OneTup) \n",
    "    \n",
    "    print(query)\n",
    "\n"
   ]
  },
  {
   "cell_type": "code",
   "execution_count": 15,
   "metadata": {},
   "outputs": [],
   "source": [
    "def Build_DB(Editors):\n",
    "\n",
    "    con = None\n",
    "\n",
    "    try:        \n",
    "        con = psycopg2.connect(\"dbname='profiles' user='marieskoczylas'\")   \n",
    "\n",
    "        cur = con.cursor()\n",
    "\n",
    "        # text field may not be large enough. Look at it later\n",
    "        cur.execute(\"CREATE TABLE WomenEditors3(Id INTEGER, Name VARCHAR(120), BigText VARCHAR(32000))\")\n",
    "        # WomenEditors\n",
    "        \n",
    "        for OneEd in Editors:\n",
    "            Insert_Author(cur, \"WomenEditors3\", OneEd)\n",
    "        \n",
    "        #cur.execute(\"INSERT INTO Cars VALUES(1,'Audi',52642)\")\n",
    "        \n",
    "        con.commit()\n",
    "\n",
    "\n",
    "    #except psycopg2.DatabaseError, e:\n",
    "    #    if con:\n",
    "    #        con.rollback()\n",
    "    #    print 'Error %s' % e    \n",
    "    #    sys.exit(1)\n",
    "\n",
    "\n",
    "    finally:\n",
    "\n",
    "        if con:\n",
    "            con.close()\n",
    "    \n",
    "    "
   ]
  },
  {
   "cell_type": "code",
   "execution_count": 17,
   "metadata": {},
   "outputs": [
    {
     "name": "stdout",
     "output_type": "stream",
     "text": [
      "/wiki/Josephine_Cables_Aldrich\n",
      "/wiki/Lorraine_Ali\n",
      "/wiki/Johari_Amini\n",
      "/wiki/Ruth_Nanda_Anshen\n",
      "/wiki/Janelle_Asselin\n"
     ]
    },
    {
     "ename": "OperationalError",
     "evalue": "could not connect to server: No such file or directory\n\tIs the server running locally and accepting\n\tconnections on Unix domain socket \"/tmp/.s.PGSQL.5432\"?\n",
     "output_type": "error",
     "traceback": [
      "\u001b[0;31m---------------------------------------------------------------------------\u001b[0m",
      "\u001b[0;31mOperationalError\u001b[0m                          Traceback (most recent call last)",
      "\u001b[0;32m<ipython-input-17-4d5f3aeebfca>\u001b[0m in \u001b[0;36m<module>\u001b[0;34m()\u001b[0m\n\u001b[1;32m      1\u001b[0m \u001b[0mEditors\u001b[0m \u001b[0;34m=\u001b[0m \u001b[0mread_Women_pages\u001b[0m\u001b[0;34m(\u001b[0m\u001b[0mWomen_URLs\u001b[0m\u001b[0;34m)\u001b[0m\u001b[0;34m\u001b[0m\u001b[0m\n\u001b[0;32m----> 2\u001b[0;31m \u001b[0mBuild_DB\u001b[0m\u001b[0;34m(\u001b[0m\u001b[0mEditors\u001b[0m\u001b[0;34m)\u001b[0m\u001b[0;34m\u001b[0m\u001b[0m\n\u001b[0m\u001b[1;32m      3\u001b[0m \u001b[0;34m\u001b[0m\u001b[0m\n\u001b[1;32m      4\u001b[0m \u001b[0mdbname\u001b[0m \u001b[0;34m=\u001b[0m \u001b[0;34m'profiles'\u001b[0m\u001b[0;34m\u001b[0m\u001b[0m\n\u001b[1;32m      5\u001b[0m \u001b[0musername\u001b[0m \u001b[0;34m=\u001b[0m \u001b[0;34m'm'\u001b[0m\u001b[0;34m\u001b[0m\u001b[0m\n",
      "\u001b[0;32m<ipython-input-15-fb29ceac630e>\u001b[0m in \u001b[0;36mBuild_DB\u001b[0;34m(Editors)\u001b[0m\n\u001b[1;32m      4\u001b[0m \u001b[0;34m\u001b[0m\u001b[0m\n\u001b[1;32m      5\u001b[0m     \u001b[0;32mtry\u001b[0m\u001b[0;34m:\u001b[0m\u001b[0;34m\u001b[0m\u001b[0m\n\u001b[0;32m----> 6\u001b[0;31m         \u001b[0mcon\u001b[0m \u001b[0;34m=\u001b[0m \u001b[0mpsycopg2\u001b[0m\u001b[0;34m.\u001b[0m\u001b[0mconnect\u001b[0m\u001b[0;34m(\u001b[0m\u001b[0;34m\"dbname='profiles' user='marieskoczylas'\"\u001b[0m\u001b[0;34m)\u001b[0m\u001b[0;34m\u001b[0m\u001b[0m\n\u001b[0m\u001b[1;32m      7\u001b[0m \u001b[0;34m\u001b[0m\u001b[0m\n\u001b[1;32m      8\u001b[0m         \u001b[0mcur\u001b[0m \u001b[0;34m=\u001b[0m \u001b[0mcon\u001b[0m\u001b[0;34m.\u001b[0m\u001b[0mcursor\u001b[0m\u001b[0;34m(\u001b[0m\u001b[0;34m)\u001b[0m\u001b[0;34m\u001b[0m\u001b[0m\n",
      "\u001b[0;32m~/anaconda3/lib/python3.6/site-packages/psycopg2/__init__.py\u001b[0m in \u001b[0;36mconnect\u001b[0;34m(dsn, connection_factory, cursor_factory, **kwargs)\u001b[0m\n\u001b[1;32m    128\u001b[0m \u001b[0;34m\u001b[0m\u001b[0m\n\u001b[1;32m    129\u001b[0m     \u001b[0mdsn\u001b[0m \u001b[0;34m=\u001b[0m \u001b[0m_ext\u001b[0m\u001b[0;34m.\u001b[0m\u001b[0mmake_dsn\u001b[0m\u001b[0;34m(\u001b[0m\u001b[0mdsn\u001b[0m\u001b[0;34m,\u001b[0m \u001b[0;34m**\u001b[0m\u001b[0mkwargs\u001b[0m\u001b[0;34m)\u001b[0m\u001b[0;34m\u001b[0m\u001b[0m\n\u001b[0;32m--> 130\u001b[0;31m     \u001b[0mconn\u001b[0m \u001b[0;34m=\u001b[0m \u001b[0m_connect\u001b[0m\u001b[0;34m(\u001b[0m\u001b[0mdsn\u001b[0m\u001b[0;34m,\u001b[0m \u001b[0mconnection_factory\u001b[0m\u001b[0;34m=\u001b[0m\u001b[0mconnection_factory\u001b[0m\u001b[0;34m,\u001b[0m \u001b[0;34m**\u001b[0m\u001b[0mkwasync\u001b[0m\u001b[0;34m)\u001b[0m\u001b[0;34m\u001b[0m\u001b[0m\n\u001b[0m\u001b[1;32m    131\u001b[0m     \u001b[0;32mif\u001b[0m \u001b[0mcursor_factory\u001b[0m \u001b[0;32mis\u001b[0m \u001b[0;32mnot\u001b[0m \u001b[0;32mNone\u001b[0m\u001b[0;34m:\u001b[0m\u001b[0;34m\u001b[0m\u001b[0m\n\u001b[1;32m    132\u001b[0m         \u001b[0mconn\u001b[0m\u001b[0;34m.\u001b[0m\u001b[0mcursor_factory\u001b[0m \u001b[0;34m=\u001b[0m \u001b[0mcursor_factory\u001b[0m\u001b[0;34m\u001b[0m\u001b[0m\n",
      "\u001b[0;31mOperationalError\u001b[0m: could not connect to server: No such file or directory\n\tIs the server running locally and accepting\n\tconnections on Unix domain socket \"/tmp/.s.PGSQL.5432\"?\n"
     ]
    }
   ],
   "source": [
    "Editors = read_Women_pages(Women_URLs)\n",
    "Build_DB(Editors)\n",
    "\n",
    "dbname = 'profiles'\n",
    "username = 'm'\n",
    "engine = create_engine('postgres://%s@localhost/%s'%(username,dbname))\n",
    "print(engine.url)\n",
    "\n",
    "if not database_exists(engine.url):\n",
    "    create_database(engine.url)\n",
    "print(database_exists(engine.url))\n",
    "\n",
    "con = psycopg2.connect(\"dbname='profiles' user='marieskoczylas'\")   \n",
    "cur = con.cursor()\n",
    "\n",
    "# query:\n",
    "sql_query = \"\"\"\n",
    "SELECT * FROM WomenEditors3;\n",
    "\"\"\"\n",
    "view_from_sql = pd.read_sql_query(sql_query,con)\n",
    "view_from_sql.head()\n",
    "\n",
    "# Why can't I see what's in the \"bigtext\" section...?\n",
    "sql_query = \"\"\"\n",
    "SELECT 'bigtext' FROM WomenEditors3 WHERE id='2';\n",
    "\"\"\"\n",
    "view_from_sql = pd.read_sql_query(sql_query,con)\n",
    "view_from_sql.head()\n"
   ]
  }
 ],
 "metadata": {
  "kernelspec": {
   "display_name": "Python 3",
   "language": "python",
   "name": "python3"
  },
  "language_info": {
   "codemirror_mode": {
    "name": "ipython",
    "version": 3
   },
   "file_extension": ".py",
   "mimetype": "text/x-python",
   "name": "python",
   "nbconvert_exporter": "python",
   "pygments_lexer": "ipython3",
   "version": "3.6.5"
  }
 },
 "nbformat": 4,
 "nbformat_minor": 2
}
