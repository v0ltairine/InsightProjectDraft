{
 "cells": [
  {
   "cell_type": "markdown",
   "metadata": {},
   "source": [
    "# Wiki Scrape notebook\n",
    "mpkt"
   ]
  },
  {
   "cell_type": "code",
   "execution_count": null,
   "metadata": {},
   "outputs": [],
   "source": [
    "### Disable autoscroll"
   ]
  },
  {
   "cell_type": "code",
   "execution_count": null,
   "metadata": {},
   "outputs": [],
   "source": []
  },
  {
   "cell_type": "code",
   "execution_count": 1,
   "metadata": {},
   "outputs": [],
   "source": [
    "from bs4 import BeautifulSoup as bs\n",
    "import requests\n",
    "from bs4.element import Comment\n",
    "import urllib.request\n",
    "import psycopg2\n",
    "#from config import Config (not sure if I need this, maybe later, couldn't figure out how to import)\n",
    "import sys\n",
    "from sqlalchemy import create_engine\n",
    "from sqlalchemy_utils import database_exists, create_database\n",
    "import psycopg2\n",
    "import pandas as pd\n"
   ]
  },
  {
   "cell_type": "code",
   "execution_count": 2,
   "metadata": {},
   "outputs": [],
   "source": [
    "res = requests.get(\"https://en.wikipedia.org/wiki/Category:Women_editors\")\n",
    "soupW = bs(res.text, \"html.parser\")\n",
    "Women_Editors = {}\n",
    "Women_URLs = []\n",
    "bHaveFirst = False\n",
    "bHasLast = False\n",
    "# /wiki/Josephine_Cables_Aldrich (so I know what the first name should be)\n",
    "# /wiki/Vera_Zouroff (so I know what the last name should be)\n",
    "for link in soupW.find_all(\"a\"):\n",
    "    url = link.get(\"href\", \"\")\n",
    "    if not bHaveFirst and \"/wiki/Josephine_Cables_Aldrich\" in url:\n",
    "        bHaveFirst = True\n",
    "    if not bHasLast and \"/wiki/Vera_Zouroff\" in url:\n",
    "        bHasLast= True\n",
    "    if bHaveFirst and \"/wiki/\" in url:\n",
    "        Women_Editors[link.text.strip()] = url\n",
    "        Women_URLs.append(url)\n",
    "        #print(url)\n",
    "    if bHasLast:\n",
    "        break\n",
    "        "
   ]
  },
  {
   "cell_type": "code",
   "execution_count": 3,
   "metadata": {},
   "outputs": [],
   "source": [
    "def tag_visible(element):\n",
    "    if element.parent.name in ['style', 'script', 'head', 'title', 'meta', '[document]']:\n",
    "        return False\n",
    "    if isinstance(element, Comment):\n",
    "        return False\n",
    "    return True"
   ]
  },
  {
   "cell_type": "code",
   "execution_count": 4,
   "metadata": {},
   "outputs": [],
   "source": [
    "def text_from_html(body):\n",
    "    soup = bs(body, 'html.parser')\n",
    "    texts = soup.findAll(text = True)\n",
    "    visible_texts = filter(tag_visible, texts)  \n",
    "    return u\" \".join(t.strip() for t in visible_texts)\n"
   ]
  },
  {
   "cell_type": "code",
   "execution_count": 5,
   "metadata": {},
   "outputs": [],
   "source": [
    "def read_Women_pages(Women_Editors):\n",
    "    EditorRows = []\n",
    "    pref = \"https://en.wikipedia.org\"  # MPKT (*fixed bug here)\n",
    "    i = 1\n",
    "    for OneURL in Women_Editors:\n",
    "        print('\\n\\n\\n #######') # MPKT\n",
    "        queryFrom = pref+OneURL # MPKT\n",
    "        print(queryFrom) # MPKT\n",
    "        html = urllib.request.urlopen(pref+OneURL).read()\n",
    "        longText = text_from_html(html)\n",
    "        #print(longText)\n",
    "        EditorRows.append((i, OneURL, longText))\n",
    "        print('************************************') # MPKT\n",
    "        print(longText) # MPKT\n",
    "        i = i+1\n",
    "        if i > 5:\n",
    "            break\n",
    "    return EditorRows\n"
   ]
  },
  {
   "cell_type": "code",
   "execution_count": 6,
   "metadata": {},
   "outputs": [],
   "source": [
    "def Insert_Author(cur, TableName, OneTup):\n",
    "    #strCommand = \"INSERT INTO \" + TableName +  \"VALUES(\" + str(OneTup[0]) + \", \\\"\" + OneTup[1] + \"\\\", \\\"\" + OneTup[2] + \"\\\")\" \n",
    "    \n",
    "    #strName = \"\\\"\" + OneTup[1] + \"\\\"\"\n",
    "    #strYuk = \"\\\"\" + OneTup[2] + \"\\\"\"\n",
    "    #strCommand = \"INSERT INTO \" + TableName + \" VALUES(\" + str(OneTup[0]) + \",\"+ strName + \",\" + strYuk + \")\"\n",
    "    \n",
    "    #strCommand = \"INSERT INTO \" + TableName +  \"VALUES(str(OneTup[0]), \"\"\\\"\" + OneTup[1] + \"\\\", \\\"\" + OneTup[2] + \"\\\")\" \n",
    "    #print(strCommand)\n",
    "    #cur.execute(strCommand)\n",
    "    \n",
    "    query = \"INSERT INTO \" + TableName + \"(Id, Name, BigText) VALUES (%s, %s, %s);\"\n",
    "    #query = \"INSERT INTO \" + TableName + \"(Name, BigText) VALUES (%s, %s);\"\n",
    "    cur.execute(query, OneTup) \n",
    "    \n",
    "    print(query)\n",
    "\n"
   ]
  },
  {
   "cell_type": "code",
   "execution_count": 7,
   "metadata": {},
   "outputs": [],
   "source": [
    "def Build_DB(Editors):\n",
    "\n",
    "    con = None\n",
    "\n",
    "    try:        \n",
    "        con = psycopg2.connect(\"dbname='profiles' user='marieskoczylas'\")   \n",
    "\n",
    "        cur = con.cursor()\n",
    "\n",
    "        # text field may not be large enough. Look at it later\n",
    "        cur.execute(\"CREATE TABLE WomenEditors3(Id INTEGER, Name VARCHAR(120), BigText VARCHAR(32000))\")\n",
    "        # WomenEditors\n",
    "        \n",
    "        for OneEd in Editors:\n",
    "            Insert_Author(cur, \"WomenEditors3\", OneEd)\n",
    "        \n",
    "        #cur.execute(\"INSERT INTO Cars VALUES(1,'Audi',52642)\")\n",
    "        \n",
    "        con.commit()\n",
    "\n",
    "\n",
    "    #except psycopg2.DatabaseError, e:\n",
    "    #    if con:\n",
    "    #        con.rollback()\n",
    "    #    print 'Error %s' % e    \n",
    "    #    sys.exit(1)\n",
    "\n",
    "\n",
    "    finally:\n",
    "\n",
    "        if con:\n",
    "            con.close()\n",
    "    \n",
    "    "
   ]
  },
  {
   "cell_type": "markdown",
   "metadata": {},
   "source": [
    "## Scrape the pages"
   ]
  },
  {
   "cell_type": "code",
   "execution_count": 8,
   "metadata": {},
   "outputs": [
    {
     "name": "stdout",
     "output_type": "stream",
     "text": [
      "\n",
      "\n",
      "\n",
      " #######\n",
      "https://en.wikipedia.org/wiki/Josephine_Cables_Aldrich\n",
      "************************************\n",
      "         Josephine Cables Aldrich   From Wikipedia, the free encyclopedia    Jump to navigation  Jump to search     Josephine Cables Aldrich    Josephine Cables Aldrich (June 12, 1843 – August 12, 1917) was an American spiritualist, Theosophist , editor, and publisher from theh U.S. state of Connecticut . Married to the politician, William F. Aldrich , she was the editor of The Occult World and the publisher of Matilda Joslyn Gage 's The Liberal Thinker . [1]     Contents    1  Early years and education  2  Career  3  Personal life  4  References   4.1  Attribution  4.2  Bibliography    5  External links     Early years and education [ edit ]  Josephine Cables was born in Litchfield, Connecticut . Her mother died when she was young, leaving her in the care of two Puritan grandmothers. They believed that a free use of the rod was necessary to save the child's soul from destruction. This severe treatment taught her that the Golden Rule was by far the best maxim for morality and happiness, and no sooner was she in control of a home of her own in Rochester, New York , than she began to teach the same, turning her home into a sort of Mecca for advance thinkers, not only in the US, but pilgrims came from Europe, Asia and Africa to confer with her.  Career [ edit ]  In 1882, in Rochester, she began publishing \"The Occult World\", a paper devoted to advanced thought and reform work. Her editorials focused on liberality, justice and mercy. She was at one time secretary of the Theosophical Society of the U.S., and president of the Rochester Brotherhood. She lived an affluent lifestyle in Aldrich, Alabama , a mining town named for her husband, William Aldrich, whom she married April 16, 1889. [2] He supported his wife in all her work, and she in turn assisted him to carry out a plan of his, whereby persons accused of crime were defended before the court, at the public expense. She served as vice-president of the Woman's National Industrial League, vice-president of the Woman's National Liberal Union, and was one of the founders of the Woman's National University and School of Useful and Ornamental Arts. [3]  Personal life [ edit ]  There were two adopted children in the family: Farrington, who died at age 19, and Josephine, who married Dr. Farley Winfield Harris. [4] Aldrich died in 1917 in Birmingham, Alabama , and is buried at Rock Creek Cemetery , Washington D.C. . [5]  References [ edit ]    ^  Gordon 2009 , p. 225.  ^  DuBose 1904 , p. 437.  ^  Willard 1893 , p. 16.  ^  Cruikshank 1920 , p. 164.  ^  \"Josephine Cables Aldrich (1843 - 1917) - Find A Grave Memorial\" . www.findagrave.com . Retrieved 13 July 2017 .     Attribution [ edit ]   This article incorporates text from a publication now in the public domain :   Cruikshank, George M. (1920). A History of Birmingham and Its Environs: A Narrative Account of Their Historical Progress, Their People, and Their Principal Interests (Public domain ed.). Lewis Publishing Company.    This article incorporates text from a publication now in the public domain : DuBose, Joel Campbell (1904). Notable Men of Alabama: Personal and Genealogical (Public domain ed.). Southern Historical Association.   This article incorporates text from a publication now in the public domain : Willard, Frances Elizabeth (1893). A Woman of the Century: Fourteen Hundred-seventy Biographical Sketches Accompanied by Portraits of Leading American Women in All Walks of Life (Public domain ed.). Moulton.    Bibliography [ edit ]   Gordon, Ann D. (10 June 2009). The Selected Papers of Elizabeth Cady Stanton and Susan B. Anthony: Their Place Inside the Body-Politic, 1887 to 1895 . Rutgers University Press. ISBN  978-0-8135-6440-1 .    External links [ edit ]   Josephine Cables Aldrich at Wikisource     Biographies portal         Retrieved from \" https://en.wikipedia.org/w/index.php?title=Josephine_Cables_Aldrich&oldid=790329407 \"  Categories : 1843 births 1917 deaths American spiritual writers American Theosophists American editors American publishers (people) Women editors People from Litchfield, Connecticut Hidden categories: Source attribution      Navigation menu    Personal tools   Not logged in Talk Contributions Create account Log in      Namespaces   Article Talk       Variants           Views   Read Edit View history      More         Search              Navigation    Main page Contents Featured content Current events Random article Donate to Wikipedia Wikipedia store      Interaction    Help About Wikipedia Community portal Recent changes Contact page      Tools    What links here Related changes Upload file Special pages Permanent link Page information Wikidata item Cite this page      Print/export    Create a book Download as PDF Printable version      Languages     Add links        This page was last edited on 13 July 2017, at 01:20.  Text is available under the Creative Commons Attribution-ShareAlike License ;\n",
      "additional terms may apply.  By using this site, you agree to the Terms of Use and Privacy Policy . Wikipedia® is a registered trademark of the Wikimedia Foundation, Inc. , a non-profit organization.    Privacy policy  About Wikipedia  Disclaimers  Contact Wikipedia  Developers  Cookie statement  Mobile view              \n",
      "\n",
      "\n",
      "\n",
      " #######\n",
      "https://en.wikipedia.org/wiki/Lorraine_Ali\n",
      "************************************\n",
      "         Lorraine Ali   From Wikipedia, the free encyclopedia    Jump to navigation  Jump to search    Lorraine Ali    Born  Los Angeles, California    Occupation  Journalist    Language  English    Nationality  American    Notable awards  Da Capo Best Music Writing National Arab Journalists Excellence in Journalism Award    Website    lorraineali.com    Lorraine Ali is an American journalist. Based in Los Angeles, California, she is a television critic at the Los Angeles Times , where she was previously a senior writer and music editor. Her work has appeared in publications such as Rolling Stone , the New York Times , GQ and Newsweek , where she was a senior writer and music critic from 2000-2009. [1]  Ali was born in Los Angeles California. Her father was an immigrant from Baghdad, Iraq and her mother a native Californian of French Canadian ancestry. [2] She began her career in the 1990s writing about local Los Angeles music artists for the LA Weekly before becoming a regular writer with the Los Angeles Times under the editorship of Robert Hilburn . Ali's work was included in Da Capo’s “Best Music Writing 2001.\" [3]  Ali was a senior critic for Rolling Stone and a music columnist for Mademoiselle . She has written for Esquire , SPIN , The Village Voice , Adweek , Entertainment Weekly , Harper’s Bazaar and Option . She wrote a car column for U.H.F in the 1990s before the alternative style magazine folded. Ali often appears as an expert voice on television. She has been interviewed on Oprah , Charlie Rose , CNN , BBC and other televised outlets discussing media, entertainment, culture, her relatives in Iraq and American-Muslim issues. [2]  Since the American invasion of Iraq in 2003, Ali has published dozens of stories about her extended Iraqi family, the ensuing refugee crisis and the 2017 executive travel ban targeting Muslim-majority nations. She has also written about the portrayal of Muslims in American media, film and television. [4] [5]  Ali was awarded an East West Center fellowship in 2016, and a Hedgebrook fellowship in 2011. [1]  Her writing awards include Best Online Feature from the New York Association of Black Journalists in 2007, an Excellence in Journalism Award in 2002 from the National Arab Journalists Association. In 1996, she won Best National Feature Story honors at the Music Journalism Awards.  References [ edit ]     ^ a  b  Edgar, Dierdre (February 8, 2017). \"Lorraine Ali Named TV Critic for LA Times\" . Los Angeles Times . Retrieved 12 March 2017 .   ^ a  b  Sanchez, Rick (March 17, 2007). \"This Week at War\" . CNN . Retrieved 12 March 2017 .   ^  Vanderburg, Marcus (October 13, 2011). \"Lorraine Ali Named LA Times Pop Music Editor\" . Adweek . Retrieved 12 March 2017 .   ^  Shirazi, Faegheh (2010). Muslim Women in War and Crisis: Representation and Reality . University of Texas. p. 269. ISBN  978-0-292-72884-4 . Retrieved 13 March 2017 .   ^  \"Lorraine Ali: Aggregated Content\" . Los Angeles Times . Los Angeles Times . Retrieved 13 March 2017 .      External links [ edit ]   Lorraine Ali's web site  Articles by Lorraine Ali        This article about an American journalist is a stub . You can help Wikipedia by expanding it .    v  t  e            Retrieved from \" https://en.wikipedia.org/w/index.php?title=Lorraine_Ali&oldid=786817135 \"  Categories : Living people American people of Iraqi descent American people of French-Canadian descent American magazine staff writers Women editors American editors American journalist stubs Hidden categories: Year of birth missing (living people) All stub articles      Navigation menu    Personal tools   Not logged in Talk Contributions Create account Log in      Namespaces   Article Talk       Variants           Views   Read Edit View history      More         Search              Navigation    Main page Contents Featured content Current events Random article Donate to Wikipedia Wikipedia store      Interaction    Help About Wikipedia Community portal Recent changes Contact page      Tools    What links here Related changes Upload file Special pages Permanent link Page information Wikidata item Cite this page      Print/export    Create a book Download as PDF Printable version      Languages     Add links        This page was last edited on 21 June 2017, at 19:29.  Text is available under the Creative Commons Attribution-ShareAlike License ;\n",
      "additional terms may apply.  By using this site, you agree to the Terms of Use and Privacy Policy . Wikipedia® is a registered trademark of the Wikimedia Foundation, Inc. , a non-profit organization.    Privacy policy  About Wikipedia  Disclaimers  Contact Wikipedia  Developers  Cookie statement  Mobile view              \n",
      "\n",
      "\n",
      "\n",
      " #######\n",
      "https://en.wikipedia.org/wiki/Johari_Amini\n"
     ]
    },
    {
     "name": "stdout",
     "output_type": "stream",
     "text": [
      "************************************\n",
      "         Johari Amini   From Wikipedia, the free encyclopedia    Jump to navigation  Jump to search        This article needs additional citations for verification . Please help improve this article by adding citations to reliable sources . Unsourced material may be challenged and removed.  (February 2016)  ( Learn how and when to remove this template message )     Overview [ edit ]  Johari Amini was an African American woman who cofounded the Third World Press in 1967. In addition to this she also contributed to other Black Arts Movement institutions such as the Writers Workshop of the Organization of Black American Culture (OBAC), its publication NOMMO, the Kuumba Theater, and the Gwendolyn Brooks Writers’ Workshop . She also worked for Black Books Bulletin as a writer as well as an editor. She has written many poems and short stories published in journals such as Black World. In addition to this impressive career in literature, she was also a practicing chiropractor. She wrote a book titled A Commonsense Approach to Eating (1975) that merged her two career paths. [1]  Popular Work [ edit ]  Images in Black (1967), Black Essence (1968), A Folk Fable (1969), Let's Go Somewhere (1970), A Hip Tale in Earth Style (1972), and A Commonsense Approach to Eating (1975). [2]  References [ edit ]     ^  \"Amini [Swahili: \"faithful\"], Johari [Swahili: \"jewel\"] (née Jewel Christine McLawler; aka Johari Kunjufu) | Encyclopedia of African-American Writing - Credo Reference\" . search.credoreference.com . Retrieved 2018-01-15 .   ^  \"Amini [Swahili: \"faithful\"], Johari [Swahili: \"jewel\"] (née Jewel Christine McLawler; aka Johari Kunjufu) | Encyclopedia of African-American Writing - Credo Reference\" . search.credoreference.com . Retrieved 2018-01-15 .          This African American–related article is a stub . You can help Wikipedia by expanding it .    v  t  e          This biographical article about a print editor of the United States is a stub . You can help Wikipedia by expanding it .    v  t  e            Retrieved from \" https://en.wikipedia.org/w/index.php?title=Johari_Amini&oldid=837706191 \"  Categories : Women editors African-American women American editors African American stubs American editor stubs Hidden categories: Articles needing additional references from February 2016 All articles needing additional references Year of birth missing Possibly living people All stub articles      Navigation menu    Personal tools   Not logged in Talk Contributions Create account Log in      Namespaces   Article Talk       Variants           Views   Read Edit View history      More         Search              Navigation    Main page Contents Featured content Current events Random article Donate to Wikipedia Wikipedia store      Interaction    Help About Wikipedia Community portal Recent changes Contact page      Tools    What links here Related changes Upload file Special pages Permanent link Page information Wikidata item Cite this page      Print/export    Create a book Download as PDF Printable version      Languages     Add links        This page was last edited on 22 April 2018, at 14:26.  Text is available under the Creative Commons Attribution-ShareAlike License ;\n",
      "additional terms may apply.  By using this site, you agree to the Terms of Use and Privacy Policy . Wikipedia® is a registered trademark of the Wikimedia Foundation, Inc. , a non-profit organization.    Privacy policy  About Wikipedia  Disclaimers  Contact Wikipedia  Developers  Cookie statement  Mobile view              \n",
      "\n",
      "\n",
      "\n",
      " #######\n",
      "https://en.wikipedia.org/wiki/Ruth_Nanda_Anshen\n",
      "************************************\n",
      "         Ruth Nanda Anshen   From Wikipedia, the free encyclopedia    Jump to navigation  Jump to search    Ruth Nanda Anshen    Born  ( 1900-06-14 ) June 14, 1900  Lynn , Massachusetts    Died  December 2, 2003 (2003-12-02) (aged 103)    Alma mater  Boston University    Occupation  Editor , Philosopher    Ruth Nanda Anshen (June 14, 1900 – December 2, 2003) was an American philosopher, author and editor. She was the author of several books including The Anatomy of Evil , Biography of An Idea , Morals Equals Manners and The Mystery of Consciousness: A Prescription for Human Survival .     Contents    1  Life  2  Career  3  Selected works  4  See also  5  References  6  External links     Life [ edit ]  Anshen was born on June 14, 1900 in Lynn , Massachusetts to Jewish Russian immigrants. [1] She studied at Boston University under Alfred North Whitehead . During her education, she developed a desire to unite scholars from all over the world from varying to fields. In 1941, she put together the Science of Culture Series, hoping to develop a “unitary principle under which there could be subsumed and evaluated the nature of man and the nature of life, the relationship of knowledge to life.” This series continued on for two decades and included Albert Einstein , Niels Bohr , Thomas Mann , and Whitehead on its board of editors.  She was a Fellow of the Royal Society of Arts of London , a member of the American Philosophical Association , the History of Science Society , the International Philosophical Society and the Metaphysical Society of America . In 1958, she established the Anshen-Columbia University Seminars on the Nature of Man . Anshen died at age 103. [1]  In the 1990s the Council for the Anshen Transdisciplinary Lectureships in Art, Science and the Philosophy of Culture included Noam Chomsky , Fred Hoyle , Paul O. Kristeller , Edith Porada , Meyer Schapiro , Hugh Thomas , John A. Wheeler , and C. N. Yang . [2]  Career [ edit ]  Anshen was the editor of several series of books, including the World Perspectives Series , published by Harper & Row , of which two volumes were by Erich Fromm : The Art of Loving (Volume 9) [3] and To Have or to Be? (Volume 50). Another notable was Deschooling Society (Volume 44) by Ivan Illich . [4] She also edited the Religious Perspectives Series , published by Harper & Row ), Credo Perspectives Series , published by Pocket Books / Simon & Schuster , The Perspectives in Humanism Series , published by World Publishing Company , The Tree of Life Series published by Seabury Press , and The Convergence Series published by Columbia University Press .  Selected works [ edit ]   Freedom: Its Meaning (1940)  Beyond Victory (1943)  The Family: Its Function and Destiny (1949)  Moral Principles of Action: Man's Ethical Imperative (1952)  Language : an enquiry into its meaning and function (1957)  The Reality of the Devil: The Evil in Man (1974)  The Anatomy of Evil (1985), Revised edition of The Reality of the Devil: Evil in Man (1974)  Biography of An Idea (1986)  Morals Equals Manners (1992)  The Mystery of Consciousness: A Prescription for Human Survival (1994)   See also [ edit ]   American philosophy   References [ edit ]     ^ a  b  Wyckoff, Susan (2009). \"Ruth Nanda Anshen - 1900 – 2003\" . Jewish Women's Archive . Retrieved 2016-11-28 .   ^  \"Apri 17, 1993 letter to Dr. Griffiths from Ruth Nanda Anshen, Portion of Faculty file of Hermann Weyl conntaining correspondence from 1946 to 1993, Institute for Advanced Study Digital Collections\" .   ^  The Art of Loving: an enquiry into the nature of love,  Erich Fromm , Harper & Brothers, 1956  ^  Deschooling Society, Ivan Illich, Harper & Row, 1971     External links [ edit ]   World Perspectives Series      Authority control     WorldCat Identities  ISNI : 0000 0000 8088 6796  LCCN : n80060820  SNAC : w612672w  VIAF : 260547263             Retrieved from \" https://en.wikipedia.org/w/index.php?title=Ruth_Nanda_Anshen&oldid=829084990 \"  Categories : 1900 births 2003 deaths American centenarians American people of Russian-Jewish descent Philosophers from Massachusetts Jewish philosophers Women editors American women philosophers Members of the American Philosophical Society Fellows of the Royal Society of Arts Hidden categories: Articles with hCards Wikipedia articles with ISNI identifiers Wikipedia articles with LCCN identifiers Wikipedia articles with SNAC-ID identifiers Wikipedia articles with VIAF identifiers      Navigation menu    Personal tools   Not logged in Talk Contributions Create account Log in      Namespaces   Article Talk       Variants           Views   Read Edit View history      More         Search              Navigation    Main page Contents Featured content Current events Random article Donate to Wikipedia Wikipedia store      Interaction    Help About Wikipedia Community portal Recent changes Contact page      Tools    What links here Related changes Upload file Special pages Permanent link Page information Wikidata item Cite this page      Print/export    Create a book Download as PDF Printable version      In other projects    Wikiquote      Languages     Add links        This page was last edited on 6 March 2018, at 15:16.  Text is available under the Creative Commons Attribution-ShareAlike License ;\n",
      "additional terms may apply.  By using this site, you agree to the Terms of Use and Privacy Policy . Wikipedia® is a registered trademark of the Wikimedia Foundation, Inc. , a non-profit organization.    Privacy policy  About Wikipedia  Disclaimers  Contact Wikipedia  Developers  Cookie statement  Mobile view              \n",
      "\n",
      "\n",
      "\n",
      " #######\n",
      "https://en.wikipedia.org/wiki/Janelle_Asselin\n"
     ]
    },
    {
     "name": "stdout",
     "output_type": "stream",
     "text": [
      "************************************\n",
      "         Janelle Asselin   From Wikipedia, the free encyclopedia    Jump to navigation  Jump to search  Janelle Asselin is an American comic book editor and writer, known for creating the now defunct publishing company Rosy Press. Asselin currently works as a claims adjuster and currently resides in Omaha, Nebraska . [1]     Contents    1  Personal life  2  Early career   2.1  Hire This Woman  2.2  Teen Titan #1 Cover Review  2.3  Rosy Press and Fresh Romance    3  References  4  External links     Personal life [ edit ]  Asselin was born on April 10, 1983 and grew up in Malvern, Iowa , where she attended Malvern Community Junior Senior High School. She later attended Southern New Hampshire University , where she graduated in 2009 with a bachelor's degree in English, and went on to receive a master's degree in Publishing in 2011 from Pace University .  Asselin has suffered from health issues such as depression and fibromyalgia . [2] [3]  Early career [ edit ]  Asselin began working for Newsarama as a pop culture reviewer and eventually [ specify ] moved to Fangoria Graphix , where she performed various tasks such as proofreading and designing layout. [4] After leaving Fangoria Graphix Asselin worked as a line editor and briefly returned to Newsarama before gaining employment with DC Comics in 2008. While at DC Comics Asselin worked on titles such as Batman , Batgirl , and Birds of Prey before leaving to work for Disney Publishing in 2011. [5] Asselin later stated in 2017 that she left DC due to sexual harassment from a fellow employee and the company's response to complaints filed by her and other female employees. [1]  Asselin was laid off from Disney Publishing in 2013, after which point she began investigating the possibility of creating her own publishing company, Rosy Press. [6] While investigating the possibility of starting her own publishing company, Asselin worked as a Senior Editor part-time at ComicsAlliance [7]  Hire This Woman [ edit ]  Janelle Asselin created \"Hire This Woman\" while writing for ComicsAlliance . \"Hire This Woman\" features a female comic artist or writer in order to help promote talented woman in the comic industry. \"Hire This Woman\" includes women that are up and coming newcomers along with more experienced women in the comic industry. [8] Asselin hoped by creating this feature on ComicsAlliance she would be able to help women find more jobs in the comic book industry. [8] Women featured in these articles include Marguerite Sauvage, [9] Janine Frederick, [10] and Aubrey Aiese. [11] Women interviewed by Janelle Asselin were comic book writers, artists, letterers , colorists , cartoonist , and many more careers in the industry. [12]  Teen Titan #1 Cover Review [ edit ]  In 2014 Asselin published an editorial piece on comic book and pop culture website CBR , criticizing the cover artwork of the first issue of DC's The New 52  Teen Titans relaunch , specifically highlighting the artwork for Wonder Girl . [13] Asselin criticized the work for what she saw as an unrealistic portrayal of a teenage female body and that Wonder Girl's was drawn inappropriately and disproportionally. [13] After the piece was published Asselin received multiple threats of rape and other bodily harm as well as derogatory sexual remarks questioning her professionalism and experience in the comic book industry. [14] In response to these threats as well as content that site founder Jonah Weiland described as \"a negativity and nastiness that has existed on the CBR forums for too long\", the site's forums were closed in favor of a new forum that he hoped would be \"inclusive, diverse, accepting and compassionate\". [15] [16]  Rosy Press and Fresh Romance [ edit ]  Asselin launched Rosy Press with the hope that she would be able to revive the genre of romance comics . The company and its flagship anthology series, Fresh Romance , was funded via a successful Kickstarter campaign. Asselin recruited several of her colleagues to work on the series, including Kate Leth , Arielle Jovellanos, and Sarah Winifred Searle. [17] The first volume of Fresh Romance was released in May 2015 as digital content and was followed up with a print release by Oni Press in 2016. [17] Prior to her announcement in 2016 that she was shuttering Rosy Press due to personal health issues and financial reasons, the Fresh Romance anthology series received nominations for a Dwayne McDuffie Diversity Award and a Harvey Award for Best Anthology . [17] [18]  In November 2016 the Fresh Romance series was picked up by Emet Comics , which also purchased Rosy Press. [17]  References [ edit ]     ^ a  b  Redden, Molly (November 21, 2017). \" ' You'll never work again': women tell how sexual harassment broke their careers\" . The Guardian . ISSN  0261-3077 . Retrieved 2017-11-30 .   ^  Letamendi, Andrea. \"STORIES OF SUICIDE: MYTHS, RISKS, AND HELP-SEEKING IN THE CREATIVE COMMUNITY.” Comics Alliance, September 10, 2014, comicsalliance.com/stories-of-suicide-myths-risks-and-help-seeking-in-the-creative-community/.  ^  Asselin, Janelle. “I'm Thinking About Leaving Comics.” Janelle Rambles, November 4, 2015, gimpnelly.tumblr.com/post/132552496695/ive-been-thinking-about-leaving-comics-giving.  ^  \"SHE MAKES COMICS: Janelle Asselin on Being a Woman in Comics\" . 13th Dimension, Comics, Creators, Culture . April 18, 2014 . Retrieved 2017-11-30 .   ^  Johnston, Rich (September 27, 2011). \"Bat Editor Janelle Asselin Quits DC For Disney (UPDATE) – Bleeding Cool News And Rumors\" . Bleeding Cool News And Rumors . Retrieved 2017-11-30 .   ^  Johnston, Rich (September 26, 2013). \"Janelle Asselin And More Laid Off By Disney – Bleeding Cool News And Rumors\" . Bleeding Cool News And Rumors . Retrieved 2017-11-30 .   ^  Elfring, Mat. \"Interview: Janelle Asselin Talks Kickstarter and Romance Comics.” Comic Vine, Comic Vine, March 23, 2015, comicvine.gamespot.com/articles/interview-janelle-asselin-talks-kickstarter-and-ro/1100-151988/.  ^ a  b  Asselin, Janelle. \"Hire This Woman: Writer Sarah Vaughn.” ComicsAlliance, September 16, 2014, comicsalliance.com/hire-this-woman-writer-sarah-vaughn/.  ^  Asselin, Janelle. \"Hire This Woman Marguerite Sauvage.\" Comics Alliance, November 12, 2014, comicsalliance.com/hire-this-woman-artist-marguerite-sauvage/.  ^  Asselin, Janelle. \"Hire This Woman: Writer Janine Frederick.” ComicsAlliance, June 3, 2014, comicsalliance.com/hire-this-woman-writer-janine-frederick/.  ^  Asselin, Janelle. “Hire This Woman: Cartoonist and Letterer Aubrey Aiese.” ComicsAlliance, July 8, 2014, comicsalliance.com/hire-this-woman-cartoonist-and-letterer-aubrey-aiese/.  ^  Asselin, Janelle. \"Hire This Woman.\" ComicsAlliance, comicsalliance.com/tags/hire-this-woman/.  ^ a  b  Asselin, Janelle (April 11, 2014). \"Anatomy of a Bad Cover: DC's New \"Teen Titans\" #1\" . CBR . Retrieved 2017-11-30 .   ^  \"An Almost Unnoticed Side-Effect: Thoughts on the Janelle Asselin / Teen Titans Cover Controversy\" . Sequart Organization . Retrieved 2017-11-30 .   ^  \"CBR Overhauls Forums in Wake of Widespread Discussion of Treatment of Women in Comics\" . The Mary Sue . Retrieved 2017-11-30 .   ^  \"Out With the Old: Introducing the New CBR Community\" . CBR . April 30, 2014 . Retrieved 2017-11-30 .   ^ a  b  c  d  MacDonald, Heidi (November 30, 2016). \"Emet Comics to take over Fresh Romance from Rosy Press; submissions open\" . The Beat . Retrieved 2017-11-30 .   ^  Lu, Alexander. \"Rosy Press Indefinitely Shutters its Doors, Janelle Asselin Leaving Comics\" . Comics Beat .      External links [ edit ]   Tumblr  Twitter        Retrieved from \" https://en.wikipedia.org/w/index.php?title=Janelle_Asselin&oldid=837510456 \"  Categories : Living people 1983 births Women editors Comic book publishers (people) DC Comics Southern New Hampshire University alumni Pace University alumni Writers from Iowa American women writers American comics writers Hidden categories: Use mdy dates from April 2018 Articles needing more detailed references      Navigation menu    Personal tools   Not logged in Talk Contributions Create account Log in      Namespaces   Article Talk       Variants           Views   Read Edit View history      More         Search              Navigation    Main page Contents Featured content Current events Random article Donate to Wikipedia Wikipedia store      Interaction    Help About Wikipedia Community portal Recent changes Contact page      Tools    What links here Related changes Upload file Special pages Permanent link Page information Wikidata item Cite this page      Print/export    Create a book Download as PDF Printable version      Languages     Add links        This page was last edited on 21 April 2018, at 08:36.  Text is available under the Creative Commons Attribution-ShareAlike License ;\n",
      "additional terms may apply.  By using this site, you agree to the Terms of Use and Privacy Policy . Wikipedia® is a registered trademark of the Wikimedia Foundation, Inc. , a non-profit organization.    Privacy policy  About Wikipedia  Disclaimers  Contact Wikipedia  Developers  Cookie statement  Mobile view              \n"
     ]
    },
    {
     "ename": "OperationalError",
     "evalue": "could not connect to server: No such file or directory\n\tIs the server running locally and accepting\n\tconnections on Unix domain socket \"/tmp/.s.PGSQL.5432\"?\n",
     "output_type": "error",
     "traceback": [
      "\u001b[0;31m---------------------------------------------------------------------------\u001b[0m",
      "\u001b[0;31mOperationalError\u001b[0m                          Traceback (most recent call last)",
      "\u001b[0;32m<ipython-input-8-e4ed82f75c22>\u001b[0m in \u001b[0;36m<module>\u001b[0;34m()\u001b[0m\n\u001b[1;32m      1\u001b[0m \u001b[0mEditors\u001b[0m \u001b[0;34m=\u001b[0m \u001b[0mread_Women_pages\u001b[0m\u001b[0;34m(\u001b[0m\u001b[0mWomen_URLs\u001b[0m\u001b[0;34m)\u001b[0m\u001b[0;34m\u001b[0m\u001b[0m\n\u001b[0;32m----> 2\u001b[0;31m \u001b[0mBuild_DB\u001b[0m\u001b[0;34m(\u001b[0m\u001b[0mEditors\u001b[0m\u001b[0;34m)\u001b[0m\u001b[0;34m\u001b[0m\u001b[0m\n\u001b[0m",
      "\u001b[0;32m<ipython-input-7-fb29ceac630e>\u001b[0m in \u001b[0;36mBuild_DB\u001b[0;34m(Editors)\u001b[0m\n\u001b[1;32m      4\u001b[0m \u001b[0;34m\u001b[0m\u001b[0m\n\u001b[1;32m      5\u001b[0m     \u001b[0;32mtry\u001b[0m\u001b[0;34m:\u001b[0m\u001b[0;34m\u001b[0m\u001b[0m\n\u001b[0;32m----> 6\u001b[0;31m         \u001b[0mcon\u001b[0m \u001b[0;34m=\u001b[0m \u001b[0mpsycopg2\u001b[0m\u001b[0;34m.\u001b[0m\u001b[0mconnect\u001b[0m\u001b[0;34m(\u001b[0m\u001b[0;34m\"dbname='profiles' user='marieskoczylas'\"\u001b[0m\u001b[0;34m)\u001b[0m\u001b[0;34m\u001b[0m\u001b[0m\n\u001b[0m\u001b[1;32m      7\u001b[0m \u001b[0;34m\u001b[0m\u001b[0m\n\u001b[1;32m      8\u001b[0m         \u001b[0mcur\u001b[0m \u001b[0;34m=\u001b[0m \u001b[0mcon\u001b[0m\u001b[0;34m.\u001b[0m\u001b[0mcursor\u001b[0m\u001b[0;34m(\u001b[0m\u001b[0;34m)\u001b[0m\u001b[0;34m\u001b[0m\u001b[0m\n",
      "\u001b[0;32m~/anaconda3/lib/python3.6/site-packages/psycopg2/__init__.py\u001b[0m in \u001b[0;36mconnect\u001b[0;34m(dsn, connection_factory, cursor_factory, **kwargs)\u001b[0m\n\u001b[1;32m    128\u001b[0m \u001b[0;34m\u001b[0m\u001b[0m\n\u001b[1;32m    129\u001b[0m     \u001b[0mdsn\u001b[0m \u001b[0;34m=\u001b[0m \u001b[0m_ext\u001b[0m\u001b[0;34m.\u001b[0m\u001b[0mmake_dsn\u001b[0m\u001b[0;34m(\u001b[0m\u001b[0mdsn\u001b[0m\u001b[0;34m,\u001b[0m \u001b[0;34m**\u001b[0m\u001b[0mkwargs\u001b[0m\u001b[0;34m)\u001b[0m\u001b[0;34m\u001b[0m\u001b[0m\n\u001b[0;32m--> 130\u001b[0;31m     \u001b[0mconn\u001b[0m \u001b[0;34m=\u001b[0m \u001b[0m_connect\u001b[0m\u001b[0;34m(\u001b[0m\u001b[0mdsn\u001b[0m\u001b[0;34m,\u001b[0m \u001b[0mconnection_factory\u001b[0m\u001b[0;34m=\u001b[0m\u001b[0mconnection_factory\u001b[0m\u001b[0;34m,\u001b[0m \u001b[0;34m**\u001b[0m\u001b[0mkwasync\u001b[0m\u001b[0;34m)\u001b[0m\u001b[0;34m\u001b[0m\u001b[0m\n\u001b[0m\u001b[1;32m    131\u001b[0m     \u001b[0;32mif\u001b[0m \u001b[0mcursor_factory\u001b[0m \u001b[0;32mis\u001b[0m \u001b[0;32mnot\u001b[0m \u001b[0;32mNone\u001b[0m\u001b[0;34m:\u001b[0m\u001b[0;34m\u001b[0m\u001b[0m\n\u001b[1;32m    132\u001b[0m         \u001b[0mconn\u001b[0m\u001b[0;34m.\u001b[0m\u001b[0mcursor_factory\u001b[0m \u001b[0;34m=\u001b[0m \u001b[0mcursor_factory\u001b[0m\u001b[0;34m\u001b[0m\u001b[0m\n",
      "\u001b[0;31mOperationalError\u001b[0m: could not connect to server: No such file or directory\n\tIs the server running locally and accepting\n\tconnections on Unix domain socket \"/tmp/.s.PGSQL.5432\"?\n"
     ]
    }
   ],
   "source": [
    "Editors = read_Women_pages(Women_URLs)\n",
    "Build_DB(Editors)"
   ]
  },
  {
   "cell_type": "markdown",
   "metadata": {},
   "source": [
    "## Store in database"
   ]
  },
  {
   "cell_type": "code",
   "execution_count": null,
   "metadata": {},
   "outputs": [],
   "source": [
    "Editors = read_Women_pages(Women_URLs)\n",
    "Build_DB(Editors)\n",
    "\n",
    "dbname = 'profiles'\n",
    "username = 'postgres'\n",
    "engine = create_engine('postgres://%s@localhost/%s'%(username,dbname))\n",
    "print(engine.url)\n",
    "\n",
    "if not database_exists(engine.url):\n",
    "    create_database(engine.url)\n",
    "print(database_exists(engine.url))\n",
    "\n",
    "con = psycopg2.connect(\"dbname='profiles' user='postgres'\")   \n",
    "cur = con.cursor()"
   ]
  },
  {
   "cell_type": "code",
   "execution_count": null,
   "metadata": {},
   "outputs": [],
   "source": [
    "\n",
    "dbname = 'profiles'\n",
    "username = 'postgres'\n",
    "engine = create_engine('postgres://%s@localhost/%s'%(username,dbname))\n",
    "print(engine.url)\n",
    "\n",
    "if not database_exists(engine.url):\n",
    "    create_database(engine.url)\n",
    "print(database_exists(engine.url))\n",
    "\n",
    "con = psycopg2.connect(\"dbname='profiles' user='postgres'\")   \n",
    "cur = con.cursor()\n",
    "\n",
    "# query:\n",
    "sql_query = \"\"\"\n",
    "SELECT * FROM WomenEditors3;\n",
    "\"\"\"\n",
    "view_from_sql = pd.read_sql_query(sql_query,con)\n",
    "view_from_sql.head()\n",
    "\n",
    "# Why can't I see what's in the \"bigtext\" section...?\n",
    "sql_query = \"\"\"\n",
    "SELECT 'bigtext' FROM WomenEditors3 WHERE id='2';\n",
    "\"\"\"\n",
    "view_from_sql = pd.read_sql_query(sql_query,con)\n",
    "view_from_sql.head()\n"
   ]
  }
 ],
 "metadata": {
  "kernelspec": {
   "display_name": "Python 3",
   "language": "python",
   "name": "python3"
  },
  "language_info": {
   "codemirror_mode": {
    "name": "ipython",
    "version": 3
   },
   "file_extension": ".py",
   "mimetype": "text/x-python",
   "name": "python",
   "nbconvert_exporter": "python",
   "pygments_lexer": "ipython3",
   "version": "3.6.5"
  }
 },
 "nbformat": 4,
 "nbformat_minor": 2
}
