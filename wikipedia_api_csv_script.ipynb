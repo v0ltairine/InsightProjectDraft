{
 "cells": [
  {
   "cell_type": "code",
   "execution_count": 41,
   "metadata": {},
   "outputs": [
    {
     "name": "stdout",
     "output_type": "stream",
     "text": [
      "['Category:Women print editors', '']\n"
     ]
    }
   ],
   "source": [
    "import wikipediaapi\n",
    "import csv\n",
    "#import pandas as pd"
   ]
  },
  {
   "cell_type": "code",
   "execution_count": 44,
   "metadata": {},
   "outputs": [
    {
     "name": "stdout",
     "output_type": "stream",
     "text": [
      "['Ada Albrecht', 'Ada Albrecht is an Argentine author, translator of Hindu books of religion and philosophy, professor, music composer and poet. She is also the founder of the Hastinapura Worldwide Association, created in 1981. She wrote about 30 books on topics of spirituality, pedagogy, universal mysticism, including stories and books for children. She has also translated a large number of Hindu philosophy texts into Spanish, mainly about Advaita Vedanta. Ada Albrecht teaches and fosters harmony among religions, the practice of prayer and meditation, the study of universal mystical doctrines and the cultivation of sacred music as means of approaching God.\\n\\nLiterary works\\nAdiós a mi Rayi, Buenos Aires, Editorial Hastinapura, 2004, ISBN 950-9102-87-3\\nBhagavad Gîtâ con notas pedagógicas, Buenos Aires, Editorial Hastinapura, 2008, ISBN 978-987-1327-19-5\\nBhakti Sûtras de Nârada con notas pedagógicas, Buenos Aires, Editorial Hastinapura, 2007, ISBN 978-987-1327-11-9\\nCuentos Egipcios, Buenos Aires, Editorial Hastinapura, 2007, ISBN 978-987-1327-09-6\\nCuentos para el Alma, Buenos Aires, Editorial Hastinapura, 2010, ISBN 978-950-9102-76-7\\nEl Evangelio del Maestro, Buenos Aires, Editorial Hastinapura, 2015, ISBN 978-987-1327-95-9\\nEl País del Más Acá, Buenos Aires, Editorial Hastinapura, 2016, ISBN 978-987-4038-02-9\\nEl Secreto de la Felicidad: El Amor a Dios, Buenos Aires, Editorial Hastinapura, 2014, ISBN 978-987-1327-77-5\\nEnseñanzas de Meister Eckhart, Buenos Aires, Editorial Hastinapura, 2014, ISBN 978-987-1327-81-2\\nFilosofía Final: Introducción a la Vedânta Advaita, Buenos Aires, Editorial Hastinapura, 2014, ISBN 978-987-1327-74-4\\nGîtâ Sara: La Esencia del Bhagavad Gîtâ, Buenos Aires, Editorial Hastinapura, 2015, ISBN 978-987-1327-92-8\\nGuía breve para la meditación, Buenos Aires, Editorial Hastinapura, 2015, ISBN 978-987-1327-93-5\\nGuía práctica para la meditación, Buenos Aires, Editorial Hastinapura, 2012, ISBN 978-987-1327-50-8\\nÍntimas, desde mi corazón, al Señor (poemas), Buenos Aires, Editorial Hastinapura, 2017, ISBN 978-987-4038-16-6\\nLa Llama y la Luz, Buenos Aires, Editorial Hastinapura, 2015, ISBN 978-987-1327-91-1\\nLa Paz del Corazón, Buenos Aires, Editorial Hastinapura, 2014, ISBN 978-987-1327-80-5\\nLos Misterios de Eleusis, Buenos Aires, Editorial Hastinapura, 2016, ISBN 978-987-4038-09-8\\nMi Primer Libro de Filosofía, Buenos Aires, Editorial Hastinapura, 2016, ISBN 978-987-4038-01-2\\nNotas sobre Universalismo Espiritual, Buenos Aires, Editorial Hastinapura, 2015, ISBN 978-987-1327-90-4\\nOm Guru Om, Buenos Aires, Editorial Hastinapura, 2007, ISBN 978-987-1327-10-2\\nPsicología: Apuntes formativos, Buenos Aires, Editorial Hastinapura, 2015, ISBN 978-987-1327-88-1\\nSabiduría Espiritual, Buenos Aires, Editorial Hastinapura, 2009, ISBN 978-987-1327-30-0\\nSatsanga: Cuentos de la India, Buenos Aires, Editorial Hastinapura, 2013, ISBN 978-987-1327-72-0\\nSantos y enseñanzas de la India, Buenos Aires, Editorial Hastinapura, 2017, ISBN 978-987-4038-17-3\\nSufismo: Camino de Amor a Dios, Buenos Aires, Editorial Hastinapura, 2016, ISBN 978-987-4038-08-1\\n¡Vuelve Francisco, vuelve...!, Buenos Aires, Editorial Hastinapura, 2012, ISBN 978-987-1327-55-3\\n\\nTranslations\\nAutoconocimiento, Buenos Aires, Editorial Hastinapura, 2014, ISBN 978-987-1327-79-9\\nBhakti Sûtras de Nârada, Buenos Aires, Editorial Hastinapura, 2011, ISBN 978-987-1327-45-4\\nChândogya Upanishad, Buenos Aires, Editorial Hastinapura, 2008, ISBN 978-987-1327-18-8\\nComentarios al Bhagavad Gîtâ (Vinoba), Buenos Aires, Editorial Hastinapura, 2011, ISBN 950-9102-81-4\\nIsa, Katha, Kena, Mundaka y Prashna Upanishads, Buenos Aires, Editorial Hastinapura, 2011, ISBN 978-987-1327-47-8\\nMandukya Upanishad (Swami Sarvananda), Buenos Aires, Editorial Hastinapura, 2011, ISBN 950-9102-84-9\\nMandukya Upanishad (Swami Nikhilananda), Buenos Aires, Editorial Hastinapura, 2016, ISBN 978-987-4038-05-0\\nSanatsujâtîya, Buenos Aires, Editorial Hastinapura, 2015, ISBN 978-987-1327-99-7\\nSvetâsvatara, Taittiriya y Aitareya Upanishads, Buenos Aires, Editorial Hastinapura, 2015, ISBN 978-987-1327-85-0\\nSrimad Bhagavatam, Buenos Aires, Editorial Hastinapura, 2016, ISBN 978-987-4038-00-5\\n\\nExternal links\\nFundación Hastinapura\\nEditorial Hastinapura']\n",
      "['Vera Weizmann', \"Vera Weizmann (Hebrew: ורה ויצמן\\u200e; November 27, 1881 – September 24, 1966), wife of Chaim Weizmann, the first president of the State of Israel, was a medical doctor and a Zionist activist.\\n\\nBiography\\nVera Chatzman was born in the town of Rostov, in the Russian Empire, the daughter of Isaiah and Feodosia Chatzman. She initially studied music before taking up medical training in Geneva, Switzerland. There she met Chaim Weizmann at the University's Zionist Club.\\nIn 1906 she married Weizmann at Zoppot, Prussia, today called Sopot, in Poland, and later that year they settled in Manchester, England. There they had two sons, Benjamin born in 1907, and Michael born in 1916. The Weizmann family lived in Manchester for thirty years, from 1906 until 1937. In 1913, Vera Weizmann received her English medical license and worked as a doctor in the public health service at clinics for infants, developing advanced techniques for infant supervision and nutrition.\\nThe Weizmanns’ younger son, Michael, served as a pilot in the British Royal Air Force during the Second World War and was killed on active service when his plane was shot down over the Bay of Biscay.\\n\\nVolunteer work\\nIn 1916, Weizmann gave up her work as a pediatrician when she joined her husband upon his appointment as the scientific adviser in chemistry to the British Admiralty during the First World War. In 1920, she was one of the founding members of the Women's International Zionist Organization (WIZO), and served as its president, alternating with Lady Sieff, for forty years. When the Second World War broke out in 1939, she devoted all of her efforts to Youth Aliyah (Aliyat Hanoar), an organization that she established in England and continued to head as honorary president while living in Israel.\\nDuring Israel's War of Independence, Weizmann focused on the treatment and rehabilitation of wounded soldiers. Immediately after the war, she established the Association of the War of Independence Handicapped Veterans and served as its president. She also established two centers for the rehabilitation of wounded soldiers, Beit Kay in Nahariya and the Department of Rehabilitation at Sheba—Tel Hashomer Hospital.\\nIn addition to her activity in these organizations, Weizmann gave her support to many voluntary organizations such as ILAN, Magen David Adom, for which she served as President, and dozens of other private and institutional charitable endeavors.\\n\\nWeizmann House\\nAs first lady, Weizmann insisted on designing the interior of the house built for the couple at Weizmann Institute—to the dismay of the architect. All the furniture and art were originals, most of them imported from England or France.\\n\\nPublished work\\nThe Impossible Takes Longer: The Memoirs of Vera Weizmann\\n\\nReferences\\nExternal links\\n[1] VERA WEIZMANN 1881 – 1966 by Esther Carmel-Hakim\"]\n"
     ]
    }
   ],
   "source": [
    "# Fetching data from Wikipedia API\n",
    "\n",
    "wiki_wiki = wikipediaapi.Wikipedia('en')\n",
    "categories = [\"Category:Women philosophers\", \"Category:Women physicians\"]\n",
    "\n",
    "profiles_api_list = []\n",
    "\n",
    "for category in categories:\n",
    "    women_in_category = wiki_wiki.page(category)\n",
    "    names = women_in_category.categorymembers.keys()\n",
    "    for name in names:\n",
    "        bio = wiki_wiki.page(name).text\n",
    "        profiles_api_list.append([name, bio])\n",
    "\n",
    "print(profiles_api_list[2])\n",
    "print(profiles_api_list[-15])\n"
   ]
  },
  {
   "cell_type": "code",
   "execution_count": 11,
   "metadata": {},
   "outputs": [
    {
     "name": "stdout",
     "output_type": "stream",
     "text": [
      "Running insert for Josephine Cables Aldrich\n",
      "Running insert for Lorraine Ali\n",
      "Running insert for Johari Amini\n",
      "Running insert for Ruth Nanda Anshen\n",
      "Running insert for Janelle Asselin\n",
      "Running insert for Miriam Balaban\n",
      "Running insert for Ximena Bedregal\n",
      "Running insert for Gretel Beer\n",
      "Running insert for Nancy K. Bereano\n",
      "Running insert for Caroline Berryman Spencer\n",
      "Running insert for Rebecca Blumenstein\n",
      "Running insert for Teresina Bontempi\n",
      "Running insert for Rebecca Burns\n",
      "Running insert for Virginia Burrus\n",
      "Running insert for Bonnie Burton\n",
      "Running insert for Carole Carmichael\n",
      "Running insert for Ersilia Cavedagni\n",
      "Running insert for Raquel Cepeda\n",
      "Running insert for Victoria Cirlot\n",
      "Running insert for Lois Dwight Cole\n",
      "Running insert for Frances Augusta Hemingway Conant\n",
      "Running insert for Mary Allen West\n",
      "Running insert for Artemis Cooper\n",
      "Running insert for Bice Curiger\n",
      "Running insert for Ellen Datlow\n",
      "Running insert for Minnie S. Davis\n",
      "Running insert for Avis DeVoto\n",
      "Running insert for Andrea Doucet\n",
      "Running insert for Monica Drake (journalist)\n",
      "Running insert for Carol Edgarian\n",
      "Running insert for Rachel Egglestone-Evans\n",
      "Running insert for Charlotte Elliott\n",
      "Running insert for Helen Fraser (executive)\n",
      "Running insert for Katherine H. Freeman\n",
      "Running insert for Amelia Freund\n",
      "Running insert for Frieda Friedman\n",
      "Running insert for Kate M. Gordon\n",
      "Running insert for Mary Katharine Ham\n",
      "Running insert for Gabrielle Harbowy\n",
      "Running insert for Kate Harding\n",
      "Running insert for Charlotte W. Hawes\n",
      "Running insert for Eliza Putnam Heaton\n",
      "Running insert for Allison Hedge Coke\n",
      "Running insert for Abby Maria Hemenway\n",
      "Running insert for Deborah Hutton (English editor)\n",
      "Running insert for Stacy-Marie Ishmael\n",
      "Running insert for Jenette Kahn\n",
      "Running insert for Janice Kaplan\n",
      "Running insert for Kathleen Kingsbury\n",
      "Running insert for Mary Jane Katzmann\n",
      "Running insert for Peggy Kornegger\n",
      "Running insert for Seija-Riitta Laakso\n",
      "Running insert for Nancy Levinson\n",
      "Running insert for Kathleen Lines\n",
      "Running insert for Mary Simmerson Cunningham Logan\n",
      "Running insert for Sarra Manning\n",
      "Running insert for Catherine Dean May\n",
      "Running insert for Mary Meriam\n",
      "Running insert for Sia Michel\n",
      "Running insert for Janice Min\n",
      "Running insert for Ana María Moix\n",
      "Running insert for Henriette Morvan\n",
      "Running insert for Alissa Nutting\n",
      "Running insert for Wen-chin Ouyang\n",
      "Running insert for Katherine Van Winkle Palmer\n",
      "Running insert for Mary Ellis Peltz\n",
      "Running insert for Carmen de Pinillos\n",
      "Running insert for Kameelah Janan Rasheed\n",
      "Running insert for Yvanka B. Raynova\n",
      "Running insert for Sarah Jane Rees\n",
      "Running insert for Anna Richardson (abolitionist)\n",
      "Running insert for Kim Roberts (filmmaker)\n",
      "Running insert for Jessica Amanda Salmonson\n",
      "Running insert for Blanca Santa Cruz Ossa\n",
      "Running insert for Mary Schendlinger\n",
      "Running insert for Rajkumari Singh\n",
      "Running insert for Margaret Sixel\n",
      "Running insert for Lizzie Skurnick\n",
      "Running insert for Madeleine Marie Slavick\n",
      "Running insert for Ada Celeste Sweet\n",
      "Running insert for Adelina Tattilo\n",
      "Running insert for Antoinette Kensel Thurgood\n",
      "Running insert for Rose Treviño\n",
      "Running insert for Alexia Tsotsis\n",
      "Running insert for Wang Huiwu\n",
      "Running insert for Juliette Wells\n",
      "Running insert for Betsy Wollheim\n",
      "Running insert for Amy Wright (writer)\n",
      "Running insert for Ina Eloise Young\n",
      "Running insert for Vera Zouroff\n",
      "Running insert for Category:Indian women editors\n",
      "Running insert for Category:Women print editors\n",
      "None\n"
     ]
    }
   ],
   "source": [
    "# Saving data to disk\n",
    "\n",
    "profiles = open('profiles.csv', 'w')\n",
    "with profiles:\n",
    "    writer = csv.writer(profiles)\n",
    "    writer.writerows(profiles_api_list)\n"
   ]
  },
  {
   "cell_type": "code",
   "execution_count": 42,
   "metadata": {},
   "outputs": [],
   "source": [
    "# Reading data from disk\n",
    "\n",
    "from_csv = []\n",
    "    \n",
    "with open('profiles.csv') as profiles:  \n",
    "    reader = csv.reader(profiles)\n",
    "    for row in reader:\n",
    "        from_csv.append(row)\n",
    "\n",
    "# To see what's in the list\n",
    "#print(from_csv[0])"
   ]
  },
  {
   "cell_type": "code",
   "execution_count": null,
   "metadata": {},
   "outputs": [],
   "source": []
  }
 ],
 "metadata": {
  "kernelspec": {
   "display_name": "Python 3",
   "language": "python",
   "name": "python3"
  },
  "language_info": {
   "codemirror_mode": {
    "name": "ipython",
    "version": 3
   },
   "file_extension": ".py",
   "mimetype": "text/x-python",
   "name": "python",
   "nbconvert_exporter": "python",
   "pygments_lexer": "ipython3",
   "version": "3.6.5"
  }
 },
 "nbformat": 4,
 "nbformat_minor": 2
}
